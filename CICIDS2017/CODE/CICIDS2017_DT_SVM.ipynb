{
 "cells": [
  {
   "cell_type": "code",
   "execution_count": null,
   "metadata": {},
   "outputs": [],
   "source": [
    "#################################################################################\n",
    "# Author: Paulina Arregocés Guerra\n",
    "# Research groups \n",
    "# GITA (Applied Telecommunications Research Group)  - Universidad de Antioquia \n",
    "# GIDIA (Artificial Intelligence Research Group) - Universidad Nacional de Colombia\n",
    "#\n",
    "# Last modified on 13/06/2023 \n",
    "# Desciotion: This code is used to label the dataset and to train and test the decision # tree and support vector machine models with real data. \n",
    "#################################################################################"
   ]
  },
  {
   "cell_type": "code",
   "execution_count": 4,
   "metadata": {},
   "outputs": [
    {
     "name": "stdout",
     "output_type": "stream",
     "text": [
      "Collecting absl-py==1.2.0 (from -r requirements.txt (line 1))\n",
      "  Using cached absl_py-1.2.0-py3-none-any.whl (123 kB)\n",
      "Collecting asttokens==2.0.8 (from -r requirements.txt (line 2))\n",
      "  Using cached asttokens-2.0.8-py2.py3-none-any.whl (23 kB)\n",
      "Collecting astunparse==1.6.3 (from -r requirements.txt (line 3))\n",
      "  Using cached astunparse-1.6.3-py2.py3-none-any.whl (12 kB)\n",
      "Requirement already satisfied: backcall==0.2.0 in c:\\users\\informatica\\desktop\\paulina\\entornos2\\bnn_exploration\\env\\lib\\site-packages (from -r requirements.txt (line 4)) (0.2.0)\n",
      "Collecting blis==0.7.8 (from -r requirements.txt (line 5))\n",
      "  Using cached blis-0.7.8-cp310-cp310-win_amd64.whl (6.6 MB)\n",
      "Collecting cachetools==5.2.0 (from -r requirements.txt (line 6))\n",
      "  Using cached cachetools-5.2.0-py3-none-any.whl (9.3 kB)\n",
      "Collecting catalogue==2.0.8 (from -r requirements.txt (line 7))\n",
      "  Using cached catalogue-2.0.8-py3-none-any.whl (17 kB)\n",
      "Collecting certifi==2022.9.14 (from -r requirements.txt (line 8))\n",
      "  Using cached certifi-2022.9.14-py3-none-any.whl (162 kB)\n",
      "Collecting charset-normalizer==2.1.1 (from -r requirements.txt (line 9))\n",
      "  Using cached charset_normalizer-2.1.1-py3-none-any.whl (39 kB)\n",
      "Collecting click==8.1.3 (from -r requirements.txt (line 10))\n",
      "  Using cached click-8.1.3-py3-none-any.whl (96 kB)\n",
      "Collecting colorama==0.4.5 (from -r requirements.txt (line 11))\n",
      "  Using cached colorama-0.4.5-py2.py3-none-any.whl (16 kB)\n",
      "Collecting confection==0.0.2 (from -r requirements.txt (line 12))\n",
      "  Using cached confection-0.0.2-py3-none-any.whl (32 kB)\n",
      "Collecting contourpy==1.0.5 (from -r requirements.txt (line 13))\n",
      "  Using cached contourpy-1.0.5-cp310-cp310-win_amd64.whl (164 kB)\n",
      "Requirement already satisfied: cycler==0.11.0 in c:\\users\\informatica\\desktop\\paulina\\entornos2\\bnn_exploration\\env\\lib\\site-packages (from -r requirements.txt (line 14)) (0.11.0)\n",
      "Collecting cymem==2.0.6 (from -r requirements.txt (line 15))\n",
      "  Using cached cymem-2.0.6-cp310-cp310-win_amd64.whl (36 kB)\n",
      "Collecting debugpy==1.6.3 (from -r requirements.txt (line 16))\n",
      "  Using cached debugpy-1.6.3-cp310-cp310-win_amd64.whl (4.6 MB)\n",
      "Requirement already satisfied: decorator==5.1.1 in c:\\users\\informatica\\desktop\\paulina\\entornos2\\bnn_exploration\\env\\lib\\site-packages (from -r requirements.txt (line 17)) (5.1.1)\n",
      "Collecting dill==0.3.5.1 (from -r requirements.txt (line 18))\n",
      "  Using cached dill-0.3.5.1-py2.py3-none-any.whl (95 kB)\n",
      "Collecting distlib==0.3.6 (from -r requirements.txt (line 19))\n",
      "  Using cached distlib-0.3.6-py2.py3-none-any.whl (468 kB)\n",
      "Collecting easygui==0.98.3 (from -r requirements.txt (line 20))\n",
      "  Using cached easygui-0.98.3-py2.py3-none-any.whl (92 kB)\n",
      "Collecting entrypoints==0.4 (from -r requirements.txt (line 21))\n",
      "  Using cached entrypoints-0.4-py3-none-any.whl (5.3 kB)\n",
      "Collecting etils==0.8.0 (from -r requirements.txt (line 22))\n",
      "  Using cached etils-0.8.0-py3-none-any.whl (127 kB)\n",
      "Collecting executing==1.0.0 (from -r requirements.txt (line 23))\n",
      "  Using cached executing-1.0.0-py2.py3-none-any.whl (16 kB)\n",
      "Collecting fastai==2.7.9 (from -r requirements.txt (line 24))\n",
      "  Using cached fastai-2.7.9-py3-none-any.whl (225 kB)\n",
      "Collecting fastcore==1.5.27 (from -r requirements.txt (line 25))\n",
      "  Using cached fastcore-1.5.27-py3-none-any.whl (67 kB)\n",
      "Collecting fastdownload==0.0.7 (from -r requirements.txt (line 26))\n",
      "  Using cached fastdownload-0.0.7-py3-none-any.whl (12 kB)\n",
      "Collecting fastprogress==1.0.3 (from -r requirements.txt (line 27))\n",
      "  Using cached fastprogress-1.0.3-py3-none-any.whl (12 kB)\n",
      "Requirement already satisfied: filelock==3.12.0 in c:\\users\\informatica\\desktop\\paulina\\entornos2\\bnn_exploration\\env\\lib\\site-packages (from -r requirements.txt (line 28)) (3.12.0)\n",
      "Collecting flatbuffers==2.0.7 (from -r requirements.txt (line 29))\n",
      "  Using cached flatbuffers-2.0.7-py2.py3-none-any.whl (26 kB)\n",
      "Collecting fonttools==4.37.3 (from -r requirements.txt (line 30))\n",
      "  Using cached fonttools-4.37.3-py3-none-any.whl (959 kB)\n",
      "Collecting gast==0.4.0 (from -r requirements.txt (line 31))\n",
      "  Using cached gast-0.4.0-py3-none-any.whl (9.8 kB)\n",
      "Collecting google-auth==2.11.1 (from -r requirements.txt (line 32))\n",
      "  Using cached google_auth-2.11.1-py2.py3-none-any.whl (167 kB)\n",
      "Collecting google-auth-oauthlib==0.4.6 (from -r requirements.txt (line 33))\n",
      "  Using cached google_auth_oauthlib-0.4.6-py2.py3-none-any.whl (18 kB)\n",
      "Collecting google-pasta==0.2.0 (from -r requirements.txt (line 34))\n",
      "  Using cached google_pasta-0.2.0-py3-none-any.whl (57 kB)\n",
      "Collecting googleapis-common-protos==1.56.4 (from -r requirements.txt (line 35))\n",
      "  Using cached googleapis_common_protos-1.56.4-py2.py3-none-any.whl (211 kB)\n",
      "Collecting graphviz==0.20.1 (from -r requirements.txt (line 36))\n",
      "  Using cached graphviz-0.20.1-py3-none-any.whl (47 kB)\n",
      "Collecting grpcio==1.48.1 (from -r requirements.txt (line 37))\n",
      "  Using cached grpcio-1.48.1-cp310-cp310-win_amd64.whl (3.6 MB)\n",
      "Collecting h5py==3.7.0 (from -r requirements.txt (line 38))\n",
      "  Using cached h5py-3.7.0-cp310-cp310-win_amd64.whl (2.6 MB)\n",
      "Requirement already satisfied: idna==3.4 in c:\\users\\informatica\\desktop\\paulina\\entornos2\\bnn_exploration\\env\\lib\\site-packages (from -r requirements.txt (line 39)) (3.4)\n",
      "Collecting imbalanced-learn==0.9.0 (from -r requirements.txt (line 40))\n",
      "  Using cached imbalanced_learn-0.9.0-py3-none-any.whl (199 kB)\n",
      "Collecting imblearn==0.0 (from -r requirements.txt (line 41))\n",
      "  Using cached imblearn-0.0-py2.py3-none-any.whl (1.9 kB)\n",
      "Collecting importlib-resources==5.9.0 (from -r requirements.txt (line 42))\n",
      "  Using cached importlib_resources-5.9.0-py3-none-any.whl (33 kB)\n",
      "Collecting ipykernel==6.15.3 (from -r requirements.txt (line 43))\n",
      "  Using cached ipykernel-6.15.3-py3-none-any.whl (138 kB)\n",
      "Collecting ipython==8.5.0 (from -r requirements.txt (line 44))\n",
      "  Using cached ipython-8.5.0-py3-none-any.whl (752 kB)\n",
      "Collecting ipywidgets==8.0.2 (from -r requirements.txt (line 45))\n",
      "  Using cached ipywidgets-8.0.2-py3-none-any.whl (134 kB)\n",
      "Collecting jedi==0.18.1 (from -r requirements.txt (line 46))\n",
      "  Using cached jedi-0.18.1-py2.py3-none-any.whl (1.6 MB)\n",
      "Requirement already satisfied: Jinja2==3.1.2 in c:\\users\\informatica\\desktop\\paulina\\entornos2\\bnn_exploration\\env\\lib\\site-packages (from -r requirements.txt (line 47)) (3.1.2)\n",
      "Collecting joblib==1.1.0 (from -r requirements.txt (line 48))\n",
      "  Using cached joblib-1.1.0-py2.py3-none-any.whl (306 kB)\n",
      "Collecting jupyter-core==4.11.1 (from -r requirements.txt (line 49))\n",
      "  Using cached jupyter_core-4.11.1-py3-none-any.whl (88 kB)\n",
      "Collecting jupyter_client==7.3.5 (from -r requirements.txt (line 50))\n",
      "  Using cached jupyter_client-7.3.5-py3-none-any.whl (132 kB)\n",
      "Collecting jupyterlab-widgets==3.0.3 (from -r requirements.txt (line 51))\n",
      "  Using cached jupyterlab_widgets-3.0.3-py3-none-any.whl (384 kB)\n",
      "Collecting keras==2.10.0 (from -r requirements.txt (line 52))\n",
      "  Using cached keras-2.10.0-py2.py3-none-any.whl (1.7 MB)\n",
      "Collecting Keras-Preprocessing==1.1.2 (from -r requirements.txt (line 53))\n",
      "  Using cached Keras_Preprocessing-1.1.2-py2.py3-none-any.whl (42 kB)\n",
      "Requirement already satisfied: kiwisolver==1.4.4 in c:\\users\\informatica\\desktop\\paulina\\entornos2\\bnn_exploration\\env\\lib\\site-packages (from -r requirements.txt (line 54)) (1.4.4)\n",
      "Collecting langcodes==3.3.0 (from -r requirements.txt (line 55))\n",
      "  Using cached langcodes-3.3.0-py3-none-any.whl (181 kB)\n",
      "Collecting libclang==14.0.6 (from -r requirements.txt (line 56))\n",
      "  Using cached libclang-14.0.6-py2.py3-none-win_amd64.whl (14.2 MB)\n",
      "Collecting Markdown==3.4.1 (from -r requirements.txt (line 57))\n",
      "  Using cached Markdown-3.4.1-py3-none-any.whl (93 kB)\n",
      "Collecting MarkupSafe==2.1.1 (from -r requirements.txt (line 58))\n",
      "  Using cached MarkupSafe-2.1.1-cp310-cp310-win_amd64.whl (17 kB)\n",
      "Collecting matplotlib==3.5.1 (from -r requirements.txt (line 59))\n",
      "  Using cached matplotlib-3.5.1-cp310-cp310-win_amd64.whl (7.2 MB)\n",
      "Collecting matplotlib-inline==0.1.2 (from -r requirements.txt (line 60))\n",
      "  Using cached matplotlib_inline-0.1.2-py3-none-any.whl (8.2 kB)\n",
      "Collecting murmurhash==1.0.8 (from -r requirements.txt (line 61))\n",
      "  Using cached murmurhash-1.0.8-cp310-cp310-win_amd64.whl (18 kB)\n",
      "Collecting nest-asyncio==1.5.5 (from -r requirements.txt (line 62))\n",
      "  Using cached nest_asyncio-1.5.5-py3-none-any.whl (5.2 kB)\n",
      "Collecting numpy==1.24.2 (from -r requirements.txt (line 63))\n",
      "  Using cached numpy-1.24.2-cp310-cp310-win_amd64.whl (14.8 MB)\n",
      "Collecting oauthlib==3.2.1 (from -r requirements.txt (line 64))\n",
      "  Using cached oauthlib-3.2.1-py3-none-any.whl (151 kB)\n",
      "Collecting opt-einsum==3.3.0 (from -r requirements.txt (line 65))\n",
      "  Using cached opt_einsum-3.3.0-py3-none-any.whl (65 kB)\n",
      "Collecting packaging==21.3 (from -r requirements.txt (line 66))\n",
      "  Using cached packaging-21.3-py3-none-any.whl (40 kB)\n",
      "Requirement already satisfied: pandas==1.4.1 in c:\\users\\informatica\\desktop\\paulina\\entornos2\\bnn_exploration\\env\\lib\\site-packages (from -r requirements.txt (line 67)) (1.4.1)\n",
      "Requirement already satisfied: parso==0.8.3 in c:\\users\\informatica\\desktop\\paulina\\entornos2\\bnn_exploration\\env\\lib\\site-packages (from -r requirements.txt (line 68)) (0.8.3)\n",
      "Collecting pathy==0.6.2 (from -r requirements.txt (line 69))\n",
      "  Using cached pathy-0.6.2-py3-none-any.whl (42 kB)\n",
      "Collecting patsy==0.5.3 (from -r requirements.txt (line 70))\n",
      "  Using cached patsy-0.5.3-py2.py3-none-any.whl (233 kB)\n",
      "Requirement already satisfied: pickleshare==0.7.5 in c:\\users\\informatica\\desktop\\paulina\\entornos2\\bnn_exploration\\env\\lib\\site-packages (from -r requirements.txt (line 71)) (0.7.5)\n",
      "Collecting Pillow==9.2.0 (from -r requirements.txt (line 72))\n",
      "  Using cached Pillow-9.2.0-cp310-cp310-win_amd64.whl (3.3 MB)\n",
      "Collecting platformdirs==3.5.0 (from -r requirements.txt (line 73))\n",
      "  Using cached platformdirs-3.5.0-py3-none-any.whl (15 kB)\n",
      "Collecting preshed==3.0.7 (from -r requirements.txt (line 74))\n",
      "  Using cached preshed-3.0.7-cp310-cp310-win_amd64.whl (94 kB)\n",
      "Collecting promise==2.3 (from -r requirements.txt (line 75))\n",
      "  Using cached promise-2.3-py3-none-any.whl\n",
      "Collecting prompt-toolkit==3.0.31 (from -r requirements.txt (line 76))\n",
      "  Using cached prompt_toolkit-3.0.31-py3-none-any.whl (382 kB)\n",
      "Collecting protobuf==3.19.5 (from -r requirements.txt (line 77))\n",
      "  Using cached protobuf-3.19.5-cp310-cp310-win_amd64.whl (895 kB)\n",
      "Collecting psutil==5.9.2 (from -r requirements.txt (line 78))\n",
      "  Using cached psutil-5.9.2-cp310-cp310-win_amd64.whl (245 kB)\n",
      "Requirement already satisfied: pure-eval==0.2.2 in c:\\users\\informatica\\desktop\\paulina\\entornos2\\bnn_exploration\\env\\lib\\site-packages (from -r requirements.txt (line 79)) (0.2.2)\n",
      "Collecting pyasn1==0.4.8 (from -r requirements.txt (line 80))\n",
      "  Using cached pyasn1-0.4.8-py2.py3-none-any.whl (77 kB)\n",
      "Collecting pyasn1-modules==0.2.8 (from -r requirements.txt (line 81))\n",
      "  Using cached pyasn1_modules-0.2.8-py2.py3-none-any.whl (155 kB)\n",
      "Collecting pydantic==1.9.2 (from -r requirements.txt (line 82))\n",
      "  Using cached pydantic-1.9.2-cp310-cp310-win_amd64.whl (2.0 MB)\n",
      "Collecting pydotplus==2.0.2 (from -r requirements.txt (line 83))\n",
      "  Using cached pydotplus-2.0.2-py3-none-any.whl\n",
      "Collecting Pygments==2.13.0 (from -r requirements.txt (line 84))\n",
      "  Using cached Pygments-2.13.0-py3-none-any.whl (1.1 MB)\n",
      "Requirement already satisfied: pyparsing==3.0.9 in c:\\users\\informatica\\desktop\\paulina\\entornos2\\bnn_exploration\\env\\lib\\site-packages (from -r requirements.txt (line 85)) (3.0.9)\n",
      "Requirement already satisfied: python-dateutil==2.8.2 in c:\\users\\informatica\\desktop\\paulina\\entornos2\\bnn_exploration\\env\\lib\\site-packages (from -r requirements.txt (line 86)) (2.8.2)\n",
      "Collecting pytz==2022.2.1 (from -r requirements.txt (line 87))\n",
      "  Using cached pytz-2022.2.1-py2.py3-none-any.whl (500 kB)\n",
      "Collecting pywin32==304 (from -r requirements.txt (line 88))\n",
      "  Using cached pywin32-304-cp310-cp310-win_amd64.whl (12.1 MB)\n",
      "Collecting PyYAML==6.0 (from -r requirements.txt (line 89))\n",
      "  Using cached PyYAML-6.0-cp310-cp310-win_amd64.whl (151 kB)\n",
      "Collecting pyzmq==24.0.0 (from -r requirements.txt (line 90))\n",
      "  Using cached pyzmq-24.0.0-cp310-cp310-win_amd64.whl (991 kB)\n",
      "Collecting requests==2.28.1 (from -r requirements.txt (line 91))\n",
      "  Using cached requests-2.28.1-py3-none-any.whl (62 kB)\n",
      "Collecting requests-oauthlib==1.3.1 (from -r requirements.txt (line 92))\n",
      "  Using cached requests_oauthlib-1.3.1-py2.py3-none-any.whl (23 kB)\n",
      "Collecting rsa==4.9 (from -r requirements.txt (line 93))\n",
      "  Using cached rsa-4.9-py3-none-any.whl (34 kB)\n",
      "Collecting scikit-learn==1.0.2 (from -r requirements.txt (line 94))\n",
      "  Using cached scikit_learn-1.0.2-cp310-cp310-win_amd64.whl (7.2 MB)\n",
      "Requirement already satisfied: scipy==1.10.1 in c:\\users\\informatica\\desktop\\paulina\\entornos2\\bnn_exploration\\env\\lib\\site-packages (from -r requirements.txt (line 95)) (1.10.1)\n",
      "Collecting seaborn==0.11.2 (from -r requirements.txt (line 96))\n",
      "  Using cached seaborn-0.11.2-py3-none-any.whl (292 kB)\n",
      "Requirement already satisfied: six==1.16.0 in c:\\users\\informatica\\desktop\\paulina\\entornos2\\bnn_exploration\\env\\lib\\site-packages (from -r requirements.txt (line 97)) (1.16.0)\n",
      "Collecting sklearn==0.0 (from -r requirements.txt (line 98))\n",
      "  Using cached sklearn-0.0.tar.gz (1.1 kB)\n",
      "  Preparing metadata (setup.py): started\n",
      "  Preparing metadata (setup.py): finished with status 'done'\n",
      "Collecting smart-open==5.2.1 (from -r requirements.txt (line 99))\n",
      "  Using cached smart_open-5.2.1-py3-none-any.whl (58 kB)\n",
      "Collecting spacy==3.4.1 (from -r requirements.txt (line 100))\n",
      "  Using cached spacy-3.4.1-cp310-cp310-win_amd64.whl (11.7 MB)\n",
      "Collecting spacy-legacy==3.0.10 (from -r requirements.txt (line 101))\n",
      "  Using cached spacy_legacy-3.0.10-py2.py3-none-any.whl (21 kB)\n",
      "Collecting spacy-loggers==1.0.3 (from -r requirements.txt (line 102))\n",
      "  Using cached spacy_loggers-1.0.3-py3-none-any.whl (9.3 kB)\n",
      "Collecting srsly==2.4.4 (from -r requirements.txt (line 103))\n",
      "  Using cached srsly-2.4.4-cp310-cp310-win_amd64.whl (448 kB)\n",
      "Collecting stack-data==0.5.0 (from -r requirements.txt (line 104))\n",
      "  Using cached stack_data-0.5.0-py3-none-any.whl (24 kB)\n",
      "Collecting statsmodels==0.13.5 (from -r requirements.txt (line 105))\n",
      "  Using cached statsmodels-0.13.5-cp310-cp310-win_amd64.whl (9.1 MB)\n",
      "Collecting tensorboard==2.10.0 (from -r requirements.txt (line 106))\n",
      "  Using cached tensorboard-2.10.0-py3-none-any.whl (5.9 MB)\n",
      "Collecting tensorboard-data-server==0.6.1 (from -r requirements.txt (line 107))\n",
      "  Using cached tensorboard_data_server-0.6.1-py3-none-any.whl (2.4 kB)\n",
      "Collecting tensorboard-plugin-wit==1.8.1 (from -r requirements.txt (line 108))\n",
      "  Using cached tensorboard_plugin_wit-1.8.1-py3-none-any.whl (781 kB)\n",
      "Collecting tensorflow==2.10.0 (from -r requirements.txt (line 109))\n",
      "  Using cached tensorflow-2.10.0-cp310-cp310-win_amd64.whl (455.9 MB)\n",
      "Collecting tensorflow-datasets==4.6.0 (from -r requirements.txt (line 110))\n",
      "  Using cached tensorflow_datasets-4.6.0-py3-none-any.whl (4.3 MB)\n",
      "Collecting tensorflow-estimator==2.10.0 (from -r requirements.txt (line 111))\n",
      "  Using cached tensorflow_estimator-2.10.0-py2.py3-none-any.whl (438 kB)\n",
      "Collecting tensorflow-io-gcs-filesystem==0.27.0 (from -r requirements.txt (line 112))\n",
      "  Using cached tensorflow_io_gcs_filesystem-0.27.0-cp310-cp310-win_amd64.whl (1.5 MB)\n",
      "Collecting tensorflow-metadata==1.10.0 (from -r requirements.txt (line 113))\n",
      "  Using cached tensorflow_metadata-1.10.0-py3-none-any.whl (50 kB)\n",
      "Collecting termcolor==2.0.1 (from -r requirements.txt (line 114))\n",
      "  Using cached termcolor-2.0.1-py3-none-any.whl (5.4 kB)\n",
      "Collecting thinc==8.1.2 (from -r requirements.txt (line 115))\n",
      "  Using cached thinc-8.1.2-cp310-cp310-win_amd64.whl (1.3 MB)\n",
      "Requirement already satisfied: threadpoolctl==3.1.0 in c:\\users\\informatica\\desktop\\paulina\\entornos2\\bnn_exploration\\env\\lib\\site-packages (from -r requirements.txt (line 116)) (3.1.0)\n",
      "Collecting toml==0.10.2 (from -r requirements.txt (line 117))\n",
      "  Using cached toml-0.10.2-py2.py3-none-any.whl (16 kB)\n"
     ]
    },
    {
     "name": "stderr",
     "output_type": "stream",
     "text": [
      "ERROR: Ignored the following versions that require a different python version: 0.23.0 Requires-Python >=3.6, <3.10; 0.5.0 Requires-Python >=2.7,<3; 0.6.0 Requires-Python >=2.7,<=3.7; 0.9.0 Requires-Python >=2.7,<=3.7\n",
      "ERROR: Could not find a version that satisfies the requirement torch==1.12.1+cu116 (from versions: 1.11.0, 1.12.0, 1.12.1, 1.13.0, 1.13.1, 2.0.0, 2.0.1)\n",
      "ERROR: No matching distribution found for torch==1.12.1+cu116\n"
     ]
    }
   ],
   "source": [
    "# Uncomment for requirement libraries versions\n",
    "#!pip install -r requirements.txt "
   ]
  },
  {
   "attachments": {},
   "cell_type": "markdown",
   "metadata": {
    "id": "9uvX9rZKVfa5"
   },
   "source": [
    "## CICIDS2017 \n",
    "From this dataset we choose layer-4 destination port and bidirectional total amount of packets as a 80-bit input vector."
   ]
  },
  {
   "cell_type": "code",
   "execution_count": 5,
   "metadata": {},
   "outputs": [],
   "source": [
    "import pandas as pd\n",
    "import numpy as np\n",
    "from numpy import where\n",
    "import matplotlib.pyplot as plt\n",
    "import seaborn as sns\n",
    "\n",
    "from sklearn.datasets import make_classification\n",
    "from sklearn.metrics import confusion_matrix\n",
    "from sklearn.metrics import classification_report\n",
    "from sklearn.model_selection import train_test_split\n",
    "from sklearn.linear_model import LogisticRegression\n",
    "from sklearn.decomposition import PCA\n",
    "from sklearn.tree import DecisionTreeClassifier\n",
    "from sklearn.preprocessing import MinMaxScaler\n",
    "from sklearn.preprocessing import StandardScaler\n",
    "from imblearn.under_sampling import CondensedNearestNeighbour\n",
    "\n",
    "from pylab import rcParams\n",
    "from collections import Counter\n",
    "import joblib  "
   ]
  },
  {
   "cell_type": "code",
   "execution_count": 6,
   "metadata": {
    "id": "aZmUnihEYyKJ"
   },
   "outputs": [],
   "source": [
    "# Read DataSet\n",
    "Complete = pd.read_csv('.\\CSV_TXT\\data.csv')"
   ]
  },
  {
   "attachments": {},
   "cell_type": "markdown",
   "metadata": {},
   "source": [
    "## Data exploration"
   ]
  },
  {
   "cell_type": "code",
   "execution_count": 7,
   "metadata": {
    "colab": {
     "base_uri": "https://localhost:8080/",
     "height": 314
    },
    "id": "ohXpCjIeZNvo",
    "outputId": "362f7882-3012-4d5b-c83c-e67a12003446"
   },
   "outputs": [
    {
     "data": {
      "text/html": [
       "<div>\n",
       "<style scoped>\n",
       "    .dataframe tbody tr th:only-of-type {\n",
       "        vertical-align: middle;\n",
       "    }\n",
       "\n",
       "    .dataframe tbody tr th {\n",
       "        vertical-align: top;\n",
       "    }\n",
       "\n",
       "    .dataframe thead th {\n",
       "        text-align: right;\n",
       "    }\n",
       "</style>\n",
       "<table border=\"1\" class=\"dataframe\">\n",
       "  <thead>\n",
       "    <tr style=\"text-align: right;\">\n",
       "      <th></th>\n",
       "      <th>Destination Port</th>\n",
       "      <th>Flow Duration</th>\n",
       "      <th>Total Fwd Packets</th>\n",
       "      <th>Total Backward Packets</th>\n",
       "      <th>Total Length of Fwd Packets</th>\n",
       "      <th>Total Length of Bwd Packets</th>\n",
       "      <th>Fwd Packet Length Max</th>\n",
       "      <th>Fwd Packet Length Min</th>\n",
       "      <th>Fwd Packet Length Mean</th>\n",
       "      <th>Fwd Packet Length Std</th>\n",
       "      <th>...</th>\n",
       "      <th>min_seg_size_forward</th>\n",
       "      <th>Active Mean</th>\n",
       "      <th>Active Std</th>\n",
       "      <th>Active Max</th>\n",
       "      <th>Active Min</th>\n",
       "      <th>Idle Mean</th>\n",
       "      <th>Idle Std</th>\n",
       "      <th>Idle Max</th>\n",
       "      <th>Idle Min</th>\n",
       "      <th>Label</th>\n",
       "    </tr>\n",
       "  </thead>\n",
       "  <tbody>\n",
       "    <tr>\n",
       "      <th>0</th>\n",
       "      <td>54865</td>\n",
       "      <td>3</td>\n",
       "      <td>2</td>\n",
       "      <td>0</td>\n",
       "      <td>12</td>\n",
       "      <td>0</td>\n",
       "      <td>6</td>\n",
       "      <td>6</td>\n",
       "      <td>6.0</td>\n",
       "      <td>0.0</td>\n",
       "      <td>...</td>\n",
       "      <td>20</td>\n",
       "      <td>0.0</td>\n",
       "      <td>0.0</td>\n",
       "      <td>0</td>\n",
       "      <td>0</td>\n",
       "      <td>0.0</td>\n",
       "      <td>0.0</td>\n",
       "      <td>0</td>\n",
       "      <td>0</td>\n",
       "      <td>BENIGN</td>\n",
       "    </tr>\n",
       "    <tr>\n",
       "      <th>1</th>\n",
       "      <td>55054</td>\n",
       "      <td>109</td>\n",
       "      <td>1</td>\n",
       "      <td>1</td>\n",
       "      <td>6</td>\n",
       "      <td>6</td>\n",
       "      <td>6</td>\n",
       "      <td>6</td>\n",
       "      <td>6.0</td>\n",
       "      <td>0.0</td>\n",
       "      <td>...</td>\n",
       "      <td>20</td>\n",
       "      <td>0.0</td>\n",
       "      <td>0.0</td>\n",
       "      <td>0</td>\n",
       "      <td>0</td>\n",
       "      <td>0.0</td>\n",
       "      <td>0.0</td>\n",
       "      <td>0</td>\n",
       "      <td>0</td>\n",
       "      <td>BENIGN</td>\n",
       "    </tr>\n",
       "    <tr>\n",
       "      <th>2</th>\n",
       "      <td>55055</td>\n",
       "      <td>52</td>\n",
       "      <td>1</td>\n",
       "      <td>1</td>\n",
       "      <td>6</td>\n",
       "      <td>6</td>\n",
       "      <td>6</td>\n",
       "      <td>6</td>\n",
       "      <td>6.0</td>\n",
       "      <td>0.0</td>\n",
       "      <td>...</td>\n",
       "      <td>20</td>\n",
       "      <td>0.0</td>\n",
       "      <td>0.0</td>\n",
       "      <td>0</td>\n",
       "      <td>0</td>\n",
       "      <td>0.0</td>\n",
       "      <td>0.0</td>\n",
       "      <td>0</td>\n",
       "      <td>0</td>\n",
       "      <td>BENIGN</td>\n",
       "    </tr>\n",
       "    <tr>\n",
       "      <th>3</th>\n",
       "      <td>46236</td>\n",
       "      <td>34</td>\n",
       "      <td>1</td>\n",
       "      <td>1</td>\n",
       "      <td>6</td>\n",
       "      <td>6</td>\n",
       "      <td>6</td>\n",
       "      <td>6</td>\n",
       "      <td>6.0</td>\n",
       "      <td>0.0</td>\n",
       "      <td>...</td>\n",
       "      <td>20</td>\n",
       "      <td>0.0</td>\n",
       "      <td>0.0</td>\n",
       "      <td>0</td>\n",
       "      <td>0</td>\n",
       "      <td>0.0</td>\n",
       "      <td>0.0</td>\n",
       "      <td>0</td>\n",
       "      <td>0</td>\n",
       "      <td>BENIGN</td>\n",
       "    </tr>\n",
       "    <tr>\n",
       "      <th>4</th>\n",
       "      <td>54863</td>\n",
       "      <td>3</td>\n",
       "      <td>2</td>\n",
       "      <td>0</td>\n",
       "      <td>12</td>\n",
       "      <td>0</td>\n",
       "      <td>6</td>\n",
       "      <td>6</td>\n",
       "      <td>6.0</td>\n",
       "      <td>0.0</td>\n",
       "      <td>...</td>\n",
       "      <td>20</td>\n",
       "      <td>0.0</td>\n",
       "      <td>0.0</td>\n",
       "      <td>0</td>\n",
       "      <td>0</td>\n",
       "      <td>0.0</td>\n",
       "      <td>0.0</td>\n",
       "      <td>0</td>\n",
       "      <td>0</td>\n",
       "      <td>BENIGN</td>\n",
       "    </tr>\n",
       "  </tbody>\n",
       "</table>\n",
       "<p>5 rows × 79 columns</p>\n",
       "</div>"
      ],
      "text/plain": [
       "    Destination Port   Flow Duration   Total Fwd Packets  \\\n",
       "0              54865               3                   2   \n",
       "1              55054             109                   1   \n",
       "2              55055              52                   1   \n",
       "3              46236              34                   1   \n",
       "4              54863               3                   2   \n",
       "\n",
       "    Total Backward Packets  Total Length of Fwd Packets  \\\n",
       "0                        0                           12   \n",
       "1                        1                            6   \n",
       "2                        1                            6   \n",
       "3                        1                            6   \n",
       "4                        0                           12   \n",
       "\n",
       "    Total Length of Bwd Packets   Fwd Packet Length Max  \\\n",
       "0                             0                       6   \n",
       "1                             6                       6   \n",
       "2                             6                       6   \n",
       "3                             6                       6   \n",
       "4                             0                       6   \n",
       "\n",
       "    Fwd Packet Length Min   Fwd Packet Length Mean   Fwd Packet Length Std  \\\n",
       "0                       6                      6.0                     0.0   \n",
       "1                       6                      6.0                     0.0   \n",
       "2                       6                      6.0                     0.0   \n",
       "3                       6                      6.0                     0.0   \n",
       "4                       6                      6.0                     0.0   \n",
       "\n",
       "   ...   min_seg_size_forward  Active Mean   Active Std   Active Max  \\\n",
       "0  ...                     20          0.0          0.0            0   \n",
       "1  ...                     20          0.0          0.0            0   \n",
       "2  ...                     20          0.0          0.0            0   \n",
       "3  ...                     20          0.0          0.0            0   \n",
       "4  ...                     20          0.0          0.0            0   \n",
       "\n",
       "    Active Min  Idle Mean   Idle Std   Idle Max   Idle Min   Label  \n",
       "0            0        0.0        0.0          0          0  BENIGN  \n",
       "1            0        0.0        0.0          0          0  BENIGN  \n",
       "2            0        0.0        0.0          0          0  BENIGN  \n",
       "3            0        0.0        0.0          0          0  BENIGN  \n",
       "4            0        0.0        0.0          0          0  BENIGN  \n",
       "\n",
       "[5 rows x 79 columns]"
      ]
     },
     "execution_count": 7,
     "metadata": {},
     "output_type": "execute_result"
    }
   ],
   "source": [
    "Complete.head(5)"
   ]
  },
  {
   "cell_type": "code",
   "execution_count": 8,
   "metadata": {
    "colab": {
     "base_uri": "https://localhost:8080/"
    },
    "id": "Q8VLCTWraB1S",
    "outputId": "e132cab3-4861-4850-da14-2795297dfa20"
   },
   "outputs": [
    {
     "data": {
      "text/plain": [
       "(2830743, 79)"
      ]
     },
     "execution_count": 8,
     "metadata": {},
     "output_type": "execute_result"
    }
   ],
   "source": [
    "Complete.shape"
   ]
  },
  {
   "cell_type": "code",
   "execution_count": 9,
   "metadata": {
    "id": "vKiqg42_aKvs"
   },
   "outputs": [],
   "source": [
    "df_copy=Complete.copy()"
   ]
  },
  {
   "cell_type": "code",
   "execution_count": 10,
   "metadata": {
    "colab": {
     "base_uri": "https://localhost:8080/"
    },
    "id": "hne1T2gsc_I1",
    "outputId": "6bac0ac2-0023-4cf0-ef32-61dc72e5ada5"
   },
   "outputs": [
    {
     "data": {
      "text/plain": [
       "Index([' Destination Port', ' Flow Duration', ' Total Fwd Packets',\n",
       "       ' Total Backward Packets', 'Total Length of Fwd Packets',\n",
       "       ' Total Length of Bwd Packets', ' Fwd Packet Length Max',\n",
       "       ' Fwd Packet Length Min', ' Fwd Packet Length Mean',\n",
       "       ' Fwd Packet Length Std', 'Bwd Packet Length Max',\n",
       "       ' Bwd Packet Length Min', ' Bwd Packet Length Mean',\n",
       "       ' Bwd Packet Length Std', 'Flow Bytes/s', ' Flow Packets/s',\n",
       "       ' Flow IAT Mean', ' Flow IAT Std', ' Flow IAT Max', ' Flow IAT Min',\n",
       "       'Fwd IAT Total', ' Fwd IAT Mean', ' Fwd IAT Std', ' Fwd IAT Max',\n",
       "       ' Fwd IAT Min', 'Bwd IAT Total', ' Bwd IAT Mean', ' Bwd IAT Std',\n",
       "       ' Bwd IAT Max', ' Bwd IAT Min', 'Fwd PSH Flags', ' Bwd PSH Flags',\n",
       "       ' Fwd URG Flags', ' Bwd URG Flags', ' Fwd Header Length',\n",
       "       ' Bwd Header Length', 'Fwd Packets/s', ' Bwd Packets/s',\n",
       "       ' Min Packet Length', ' Max Packet Length', ' Packet Length Mean',\n",
       "       ' Packet Length Std', ' Packet Length Variance', 'FIN Flag Count',\n",
       "       ' SYN Flag Count', ' RST Flag Count', ' PSH Flag Count',\n",
       "       ' ACK Flag Count', ' URG Flag Count', ' CWE Flag Count',\n",
       "       ' ECE Flag Count', ' Down/Up Ratio', ' Average Packet Size',\n",
       "       ' Avg Fwd Segment Size', ' Avg Bwd Segment Size',\n",
       "       ' Fwd Header Length.1', 'Fwd Avg Bytes/Bulk', ' Fwd Avg Packets/Bulk',\n",
       "       ' Fwd Avg Bulk Rate', ' Bwd Avg Bytes/Bulk', ' Bwd Avg Packets/Bulk',\n",
       "       'Bwd Avg Bulk Rate', 'Subflow Fwd Packets', ' Subflow Fwd Bytes',\n",
       "       ' Subflow Bwd Packets', ' Subflow Bwd Bytes', 'Init_Win_bytes_forward',\n",
       "       ' Init_Win_bytes_backward', ' act_data_pkt_fwd',\n",
       "       ' min_seg_size_forward', 'Active Mean', ' Active Std', ' Active Max',\n",
       "       ' Active Min', 'Idle Mean', ' Idle Std', ' Idle Max', ' Idle Min',\n",
       "       ' Label'],\n",
       "      dtype='object')"
      ]
     },
     "execution_count": 10,
     "metadata": {},
     "output_type": "execute_result"
    }
   ],
   "source": [
    "df_copy.columns"
   ]
  },
  {
   "cell_type": "code",
   "execution_count": 11,
   "metadata": {
    "colab": {
     "base_uri": "https://localhost:8080/"
    },
    "id": "85QMMVALcy8k",
    "outputId": "755e61da-cd07-414f-cf88-4acf8eb9b004"
   },
   "outputs": [
    {
     "data": {
      "text/plain": [
       "BENIGN                        80.300366\n",
       "DoS Hulk                       8.162981\n",
       "PortScan                       5.614427\n",
       "DDoS                           4.522735\n",
       "DoS GoldenEye                  0.363615\n",
       "FTP-Patator                    0.280421\n",
       "SSH-Patator                    0.208320\n",
       "DoS slowloris                  0.204752\n",
       "DoS Slowhttptest               0.194260\n",
       "Bot                            0.069452\n",
       "Web Attack � Brute Force       0.053237\n",
       "Web Attack � XSS               0.023033\n",
       "Infiltration                   0.001272\n",
       "Web Attack � Sql Injection     0.000742\n",
       "Heartbleed                     0.000389\n",
       "Name:  Label, dtype: float64"
      ]
     },
     "execution_count": 11,
     "metadata": {},
     "output_type": "execute_result"
    }
   ],
   "source": [
    "100 * df_copy[' Label'].value_counts() / len(df_copy[' Label'])"
   ]
  },
  {
   "cell_type": "code",
   "execution_count": 12,
   "metadata": {},
   "outputs": [
    {
     "data": {
      "image/png": "[encoded data removed]",
      "text/plain": [
       "<Figure size 600x600 with 1 Axes>"
      ]
     },
     "metadata": {},
     "output_type": "display_data"
    }
   ],
   "source": [
    "# Graphics attacks \n",
    "import matplotlib.pyplot as plt\n",
    "plot = df_copy[' Label'].value_counts().plot(kind='bar', \n",
    "                                           figsize=(6, 6),\n",
    "                                           title='Tipo de ataques')"
   ]
  },
  {
   "cell_type": "code",
   "execution_count": 13,
   "metadata": {
    "colab": {
     "base_uri": "https://localhost:8080/"
    },
    "id": "RpW4gGiqdpQO",
    "outputId": "a5c9a4d9-22ce-4d3f-a339-5a034b1651f1"
   },
   "outputs": [
    {
     "data": {
      "text/plain": [
       " Destination Port                int64\n",
       " Flow Duration                   int64\n",
       " Total Fwd Packets               int64\n",
       " Total Backward Packets          int64\n",
       "Total Length of Fwd Packets      int64\n",
       "                                ...   \n",
       "Idle Mean                      float64\n",
       " Idle Std                      float64\n",
       " Idle Max                        int64\n",
       " Idle Min                        int64\n",
       " Label                          object\n",
       "Length: 79, dtype: object"
      ]
     },
     "execution_count": 13,
     "metadata": {},
     "output_type": "execute_result"
    }
   ],
   "source": [
    "df_copy.dtypes"
   ]
  },
  {
   "cell_type": "code",
   "execution_count": 14,
   "metadata": {
    "id": "VpPoVoK8mFlv"
   },
   "outputs": [],
   "source": [
    "attacks=df_copy[df_copy[' Label']!= 'BENIGN']"
   ]
  },
  {
   "cell_type": "code",
   "execution_count": 15,
   "metadata": {
    "colab": {
     "base_uri": "https://localhost:8080/"
    },
    "id": "ilKcwJMGmW06",
    "outputId": "60ffffdf-e80d-4a30-df98-51c03a2d55da"
   },
   "outputs": [
    {
     "data": {
      "text/plain": [
       "DoS Hulk                      231073\n",
       "PortScan                      158930\n",
       "DDoS                          128027\n",
       "DoS GoldenEye                  10293\n",
       "FTP-Patator                     7938\n",
       "SSH-Patator                     5897\n",
       "DoS slowloris                   5796\n",
       "DoS Slowhttptest                5499\n",
       "Bot                             1966\n",
       "Web Attack � Brute Force        1507\n",
       "Web Attack � XSS                 652\n",
       "Infiltration                      36\n",
       "Web Attack � Sql Injection        21\n",
       "Heartbleed                        11\n",
       "Name:  Label, dtype: int64"
      ]
     },
     "execution_count": 15,
     "metadata": {},
     "output_type": "execute_result"
    }
   ],
   "source": [
    "attacks[' Label'].value_counts()"
   ]
  },
  {
   "cell_type": "code",
   "execution_count": 16,
   "metadata": {},
   "outputs": [
    {
     "data": {
      "image/png": "[encoded data removed]",
      "text/plain": [
       "<Figure size 600x600 with 1 Axes>"
      ]
     },
     "metadata": {},
     "output_type": "display_data"
    }
   ],
   "source": [
    "# Graphic attacks  \n",
    "import matplotlib.pyplot as plt\n",
    "plot = attacks[' Label'].value_counts().plot(kind='bar', \n",
    "                                           figsize=(6, 6),\n",
    "                                           title='Tipo de ataques')"
   ]
  },
  {
   "cell_type": "code",
   "execution_count": 17,
   "metadata": {
    "id": "iwEA7NCzqX7z"
   },
   "outputs": [],
   "source": [
    "df_copy2=Complete.copy()"
   ]
  },
  {
   "cell_type": "code",
   "execution_count": 18,
   "metadata": {
    "id": "-LTIe_tGnZ1D"
   },
   "outputs": [],
   "source": [
    "def change_label(label):\n",
    "    if label == 'BENIGN': label = 0\n",
    "    else:label = 1\n",
    "    return label"
   ]
  },
  {
   "cell_type": "code",
   "execution_count": 19,
   "metadata": {
    "id": "f-D_kn9Om2ma"
   },
   "outputs": [],
   "source": [
    "df_copy2[' Label']=df_copy2[' Label'].apply(lambda x: f\"{change_label(x)}\")"
   ]
  },
  {
   "cell_type": "code",
   "execution_count": 20,
   "metadata": {
    "colab": {
     "base_uri": "https://localhost:8080/"
    },
    "id": "AS69nTVwoIdD",
    "outputId": "98cba5e4-1b1d-4d33-d647-1d3a54ff5ff1"
   },
   "outputs": [
    {
     "data": {
      "text/plain": [
       "0    2273097\n",
       "1     557646\n",
       "Name:  Label, dtype: int64"
      ]
     },
     "execution_count": 20,
     "metadata": {},
     "output_type": "execute_result"
    }
   ],
   "source": [
    "df_copy2[' Label'].value_counts()"
   ]
  },
  {
   "cell_type": "code",
   "execution_count": 21,
   "metadata": {},
   "outputs": [],
   "source": [
    "# Cleaning data\n",
    "import numpy as np\n",
    "\n",
    "def clean_dataset(df):\n",
    "    assert isinstance(df, pd.DataFrame), \"df needs to be a pd.DataFrame\"\n",
    "    df.dropna(inplace=True)\n",
    "    indices_to_keep = ~df.isin([np.nan, np.inf, -np.inf]).any(1)\n",
    "    return df[indices_to_keep].astype(np.float64)"
   ]
  },
  {
   "cell_type": "code",
   "execution_count": 22,
   "metadata": {},
   "outputs": [],
   "source": [
    "copy2_clean=clean_dataset(df_copy2)\n",
    "copy2_clean['Total Bi Packets'] = copy2_clean[' Total Fwd Packets'] +  copy2_clean[' Total Backward Packets'] "
   ]
  },
  {
   "cell_type": "code",
   "execution_count": 23,
   "metadata": {},
   "outputs": [
    {
     "data": {
      "text/plain": [
       "0.0    2271320\n",
       "1.0     556556\n",
       "Name:  Label, dtype: int64"
      ]
     },
     "execution_count": 23,
     "metadata": {},
     "output_type": "execute_result"
    }
   ],
   "source": [
    "copy2_clean[' Label'].value_counts()"
   ]
  },
  {
   "cell_type": "code",
   "execution_count": 24,
   "metadata": {},
   "outputs": [
    {
     "data": {
      "image/png": "[encoded data removed]",
      "text/plain": [
       "<Figure size 600x600 with 1 Axes>"
      ]
     },
     "metadata": {},
     "output_type": "display_data"
    }
   ],
   "source": [
    "plot = copy2_clean[' Label'].value_counts().plot(kind='bar', \n",
    "                                           figsize=(6, 6),\n",
    "                                           title='Tipo de ataques')"
   ]
  },
  {
   "cell_type": "code",
   "execution_count": 25,
   "metadata": {},
   "outputs": [
    {
     "data": {
      "text/plain": [
       "(2827876, 80)"
      ]
     },
     "execution_count": 25,
     "metadata": {},
     "output_type": "execute_result"
    }
   ],
   "source": [
    "copy2_clean.shape"
   ]
  },
  {
   "attachments": {},
   "cell_type": "markdown",
   "metadata": {},
   "source": [
    "## Data set separation"
   ]
  },
  {
   "cell_type": "code",
   "execution_count": 26,
   "metadata": {
    "id": "zb3ESn5XzwaC"
   },
   "outputs": [
    {
     "name": "stderr",
     "output_type": "stream",
     "text": [
      "C:\\Users\\Informatica\\AppData\\Local\\Temp\\ipykernel_18192\\1944290118.py:1: FutureWarning: Passing a set as an indexer is deprecated and will raise in a future version. Use a list instead.\n",
      "  df_X= copy2_clean[{' Destination Port',' Total Fwd Packets',' Total Backward Packets'}] # features (3)\n"
     ]
    }
   ],
   "source": [
    "df_X= copy2_clean[{' Destination Port',' Total Fwd Packets',' Total Backward Packets'}] # features (3)\n",
    "df_Y=copy2_clean[' Label']"
   ]
  },
  {
   "attachments": {},
   "cell_type": "markdown",
   "metadata": {},
   "source": [
    "## Balance Data"
   ]
  },
  {
   "cell_type": "code",
   "execution_count": 27,
   "metadata": {},
   "outputs": [],
   "source": [
    "# Uncomment to run with Data reduced three features\n",
    "x_train, x_test, y_train, y_test = train_test_split(df_X, df_Y,random_state = 1, train_size=0.7)\n",
    "\n",
    "os =  CondensedNearestNeighbour(n_neighbors=1, random_state=42)\n",
    "X_train_bal, y_train_bal = os.fit_resample(x_train, y_train)\n",
    "\n",
    "print (\"Distribution before resampling {}\".format(Counter(y_train)))\n",
    "print (\"Distribution labels after resampling {}\".format(Counter(y_train_bal)))\n",
    "\n",
    "from sklearn.preprocessing import StandardScaler\n",
    "\n",
    "scaler = StandardScaler() \n",
    "xtrain_scaled3 = scaler.fit_transform(X_train_bal)\n",
    "xtest_scaled3 = scaler.fit_transform(x_test)"
   ]
  },
  {
   "attachments": {},
   "cell_type": "markdown",
   "metadata": {
    "id": "xenW_K9pzNWi"
   },
   "source": [
    "# Decision Tree  \n"
   ]
  },
  {
   "cell_type": "code",
   "execution_count": null,
   "metadata": {},
   "outputs": [
    {
     "ename": "NameError",
     "evalue": "name 'xtrain_scaled3' is not defined",
     "output_type": "error",
     "traceback": [
      "\u001b[1;31m---------------------------------------------------------------------------\u001b[0m",
      "\u001b[1;31mNameError\u001b[0m                                 Traceback (most recent call last)",
      "Cell \u001b[1;32mIn[2], line 3\u001b[0m\n\u001b[0;32m      1\u001b[0m \u001b[39mfrom\u001b[39;00m \u001b[39msklearn\u001b[39;00m \u001b[39mimport\u001b[39;00m tree\n\u001b[0;32m      2\u001b[0m clf_tree \u001b[39m=\u001b[39m tree\u001b[39m.\u001b[39mDecisionTreeClassifier(random_state\u001b[39m=\u001b[39m\u001b[39m0\u001b[39m,max_depth\u001b[39m=\u001b[39m \u001b[39m25\u001b[39m, min_samples_leaf\u001b[39m=\u001b[39m\u001b[39m3\u001b[39m, min_samples_split\u001b[39m=\u001b[39m\u001b[39m20\u001b[39m)\n\u001b[1;32m----> 3\u001b[0m clf_tree \u001b[39m=\u001b[39m clf_tree\u001b[39m.\u001b[39mfit(xtrain_scaled3, y_train)\n",
      "\u001b[1;31mNameError\u001b[0m: name 'xtrain_scaled3' is not defined"
     ]
    }
   ],
   "source": [
    "from sklearn import tree\n",
    "clf_tree = tree.DecisionTreeClassifier(random_state=0,max_depth= 25, min_samples_leaf=3, min_samples_split=20)\n",
    "clf_tree = clf_tree.fit(xtrain_scaled3, y_train)"
   ]
  },
  {
   "cell_type": "code",
   "execution_count": null,
   "metadata": {},
   "outputs": [
    {
     "ename": "NameError",
     "evalue": "name 'xtest_scaled3' is not defined",
     "output_type": "error",
     "traceback": [
      "\u001b[1;31m---------------------------------------------------------------------------\u001b[0m",
      "\u001b[1;31mNameError\u001b[0m                                 Traceback (most recent call last)",
      "Cell \u001b[1;32mIn[3], line 1\u001b[0m\n\u001b[1;32m----> 1\u001b[0m y_predict_redu \u001b[39m=\u001b[39m clf_tree\u001b[39m.\u001b[39mpredict(xtest_scaled3)\n",
      "\u001b[1;31mNameError\u001b[0m: name 'xtest_scaled3' is not defined"
     ]
    }
   ],
   "source": [
    "y_predict_redu = clf_tree.predict(xtest_scaled3)"
   ]
  },
  {
   "cell_type": "code",
   "execution_count": null,
   "metadata": {},
   "outputs": [
    {
     "data": {
      "image/png": "[encoded data removed]",
      "text/plain": [
       "<Figure size 432x288 with 2 Axes>"
      ]
     },
     "metadata": {
      "needs_background": "light"
     },
     "output_type": "display_data"
    }
   ],
   "source": [
    "Y_actual= y_test\n",
    "Y_predict= y_predict_redu\n",
    "\n",
    "# crear matriz de confusión\n",
    "matrix= confusion_matrix(Y_actual,Y_predict)\n",
    "\n",
    "# crear marco de datos de pandas Crear un conjunto de datos\n",
    "class_names= ['normal','ataque']\n",
    "dataframe = pd.DataFrame(matrix, index=class_names, columns=class_names)\n",
    "\n",
    "# crear mapa de calor dibujar mapa de calor\n",
    "sns.heatmap(dataframe/np.sum(dataframe), annot=True, \n",
    "            fmt='.2%', cmap='Blues')\n",
    "plt.title(\"Confusion Matrix\"), plt.tight_layout()\n",
    "plt.ylabel(\"True Class\"), plt.xlabel(\"Predicted Class\")\n",
    "plt.show()"
   ]
  },
  {
   "cell_type": "code",
   "execution_count": null,
   "metadata": {},
   "outputs": [
    {
     "name": "stdout",
     "output_type": "stream",
     "text": [
      "Accuracy Score is 0.7195103982611217\n",
      "Classificaction Report\n",
      "              precision    recall  f1-score   support\n",
      "\n",
      "         0.0       0.81      0.86      0.83    681576\n",
      "         1.0       0.21      0.15      0.18    166787\n",
      "\n",
      "    accuracy                           0.72    848363\n",
      "   macro avg       0.51      0.51      0.50    848363\n",
      "weighted avg       0.69      0.72      0.70    848363\n",
      "\n"
     ]
    }
   ],
   "source": [
    "from sklearn.metrics import accuracy_score\n",
    "from sklearn.metrics import classification_report\n",
    "\n",
    "print('Accuracy Score is', accuracy_score(Y_actual,Y_predict))\n",
    "print('Classificaction Report')\n",
    "print(classification_report(Y_actual,Y_predict))"
   ]
  },
  {
   "cell_type": "code",
   "execution_count": null,
   "metadata": {},
   "outputs": [],
   "source": [
    "# Uncomment to save model  \n",
    "joblib.dump(clf_tree, 'CICIDS_DT.pkl') "
   ]
  },
  {
   "cell_type": "code",
   "execution_count": null,
   "metadata": {},
   "outputs": [],
   "source": [
    "# Uncomment to upload model and test it  \n",
    "clf_dt = joblib.load('CICIDS_DT.pkl')\n",
    "clf_dt.score(xtest_scaled3, y_test)"
   ]
  },
  {
   "attachments": {},
   "cell_type": "markdown",
   "metadata": {},
   "source": [
    "# SVM"
   ]
  },
  {
   "cell_type": "code",
   "execution_count": null,
   "metadata": {},
   "outputs": [],
   "source": [
    "# Get a sample of data \n",
    "copy3= copy2_clean.sample(frac=0.2)"
   ]
  },
  {
   "cell_type": "code",
   "execution_count": null,
   "metadata": {},
   "outputs": [
    {
     "data": {
      "text/plain": [
       "0.0    454113\n",
       "1.0    111462\n",
       "Name:  Label, dtype: int64"
      ]
     },
     "execution_count": 52,
     "metadata": {},
     "output_type": "execute_result"
    }
   ],
   "source": [
    "copy3[' Label'].value_counts()"
   ]
  },
  {
   "cell_type": "code",
   "execution_count": null,
   "metadata": {},
   "outputs": [],
   "source": [
    "copy3['Total Bi Packets'] = copy3[' Total Fwd Packets'] +  copy3[' Total Backward Packets'] "
   ]
  },
  {
   "cell_type": "code",
   "execution_count": null,
   "metadata": {
    "id": "zb3ESn5XzwaC"
   },
   "outputs": [],
   "source": [
    "df_X= copy3[{' Destination Port',' Total Fwd Packets',' Total Backward Packets'}] # Atributos seleccionados en el artículo \n",
    "df_Y=copy3[' Label']"
   ]
  },
  {
   "cell_type": "code",
   "execution_count": null,
   "metadata": {},
   "outputs": [],
   "source": [
    "# Uncomment to run with Data reduced three features\n",
    "x_train, x_test, y_train, y_test = train_test_split(df_X, df_Y,random_state = 1, train_size=0.7)# entrenamiento, validación \n",
    "\n",
    "os =  CondensedNearestNeighbour(n_neighbors=1, random_state=42)\n",
    "X_train_bal, y_train_bal = os.fit_resample(x_train, y_train)\n",
    "\n",
    "print (\"Distribution before resampling {}\".format(Counter(y_train)))\n",
    "print (\"Distribution labels after resampling {}\".format(Counter(y_train_bal)))\n",
    "\n",
    "from sklearn.preprocessing import StandardScaler\n",
    "\n",
    "scaler = StandardScaler() \n",
    "xtrain_scaled3 = scaler.fit_transform(X_train_bal)\n",
    "xtest_scaled3 = scaler.fit_transform(x_test)"
   ]
  },
  {
   "cell_type": "code",
   "execution_count": null,
   "metadata": {},
   "outputs": [],
   "source": [
    "from sklearn.svm import SVC\n",
    "clf = SVC(C=0.5, kernel='rbf', random_state=0)\n",
    "clf = clf.fit(xtrain_scaled3, y_train)"
   ]
  },
  {
   "cell_type": "code",
   "execution_count": null,
   "metadata": {},
   "outputs": [],
   "source": [
    "y_predict_SVM = clf.predict(xtest_scaled3)"
   ]
  },
  {
   "cell_type": "code",
   "execution_count": null,
   "metadata": {},
   "outputs": [
    {
     "data": {
      "image/png": "[encoded data removed]",
      "text/plain": [
       "<Figure size 432x288 with 2 Axes>"
      ]
     },
     "metadata": {
      "needs_background": "light"
     },
     "output_type": "display_data"
    }
   ],
   "source": [
    "Y_actual= y_test\n",
    "Y_predict_SVM= y_predict_SVM\n",
    "\n",
    "matrix= confusion_matrix(Y_actual,Y_predict_SVM)\n",
    "\n",
    "class_names= ['normal','ataque']\n",
    "dataframe = pd.DataFrame(matrix, index=class_names, columns=class_names)\n",
    "\n",
    "sns.heatmap(dataframe/np.sum(dataframe), annot=True, \n",
    "            fmt='.2%', cmap='Blues')\n",
    "plt.title(\"Confusion Matrix\"), plt.tight_layout()\n",
    "plt.ylabel(\"True Class\"), plt.xlabel(\"Predicted Class\")\n",
    "plt.show()"
   ]
  },
  {
   "cell_type": "code",
   "execution_count": null,
   "metadata": {},
   "outputs": [
    {
     "name": "stdout",
     "output_type": "stream",
     "text": [
      "Accuracy Score is 0.803333470852758\n",
      "Classificaction Report\n",
      "              precision    recall  f1-score   support\n",
      "\n",
      "         0.0       0.80      1.00      0.89    136304\n",
      "         1.0       0.00      0.00      0.00     33369\n",
      "\n",
      "    accuracy                           0.80    169673\n",
      "   macro avg       0.40      0.50      0.45    169673\n",
      "weighted avg       0.65      0.80      0.72    169673\n",
      "\n"
     ]
    },
    {
     "name": "stderr",
     "output_type": "stream",
     "text": [
      "/home/epit/Alianza_Interact/CICIDS2017/CICIDS/lib/python3.6/site-packages/sklearn/metrics/_classification.py:1248: UndefinedMetricWarning: Precision and F-score are ill-defined and being set to 0.0 in labels with no predicted samples. Use `zero_division` parameter to control this behavior.\n",
      "  _warn_prf(average, modifier, msg_start, len(result))\n",
      "/home/epit/Alianza_Interact/CICIDS2017/CICIDS/lib/python3.6/site-packages/sklearn/metrics/_classification.py:1248: UndefinedMetricWarning: Precision and F-score are ill-defined and being set to 0.0 in labels with no predicted samples. Use `zero_division` parameter to control this behavior.\n",
      "  _warn_prf(average, modifier, msg_start, len(result))\n",
      "/home/epit/Alianza_Interact/CICIDS2017/CICIDS/lib/python3.6/site-packages/sklearn/metrics/_classification.py:1248: UndefinedMetricWarning: Precision and F-score are ill-defined and being set to 0.0 in labels with no predicted samples. Use `zero_division` parameter to control this behavior.\n",
      "  _warn_prf(average, modifier, msg_start, len(result))\n"
     ]
    }
   ],
   "source": [
    "print('Accuracy Score is', accuracy_score(Y_actual,Y_predict_SVM))\n",
    "print('Classificaction Report')\n",
    "print(classification_report(Y_actual,Y_predict_SVM))"
   ]
  },
  {
   "cell_type": "code",
   "execution_count": null,
   "metadata": {},
   "outputs": [],
   "source": [
    "# Uncomment to save model  \n",
    "joblib.dump(clf, 'CICIDS_SVM.pkl') "
   ]
  },
  {
   "cell_type": "code",
   "execution_count": null,
   "metadata": {},
   "outputs": [],
   "source": [
    "# Uncomment to upload model and test it  \n",
    "clf_svm = joblib.load('CICIDS_SVM.pkl')\n",
    "clf_svm.score(xtest_scaled3, y_test)"
   ]
  }
 ],
 "metadata": {
  "colab": {
   "name": "ArticuloCICIDS2017.ipynb",
   "provenance": []
  },
  "kernelspec": {
   "display_name": "Python 3.10.7 64-bit",
   "language": "python",
   "name": "python3"
  },
  "language_info": {
   "codemirror_mode": {
    "name": "ipython",
    "version": 3
   },
   "file_extension": ".py",
   "mimetype": "text/x-python",
   "name": "python",
   "nbconvert_exporter": "python",
   "pygments_lexer": "ipython3",
   "version": "3.10.7"
  },
  "vscode": {
   "interpreter": {
    "hash": "b827ebc50cbdd643ae8cb3565317db0b2256a48f0496347d50c0f0a417c4b7ad"
   }
  }
 },
 "nbformat": 4,
 "nbformat_minor": 1
}
