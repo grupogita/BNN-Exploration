{
 "cells": [
  {
   "cell_type": "code",
   "execution_count": 58,
   "id": "a8cbc936",
   "metadata": {},
   "outputs": [],
   "source": [
    "#################################################################################\n",
    "# Author: Paulina Arregocés Guerra\n",
    "# Research groups \n",
    "# GITA (Applied Telecommunications Research Group)  - Universidad de Antioquia \n",
    "# GIDIA (Artificial Intelligence Research Group) - Universidad Nacional de Colombia\n",
    "#\n",
    "# Last modified on 13/06/2023 \n",
    "# Desciotion: This code is used to label the dataset and to train and test the decision # tree and support vector machine models with real data. \n",
    "#################################################################################"
   ]
  },
  {
   "cell_type": "code",
   "execution_count": null,
   "id": "aed1bbc0",
   "metadata": {},
   "outputs": [],
   "source": [
    "# Select your preferences and run the install command...https://pytorch.org/\n",
    "#!pip3 install torch torchvision torchaudio --extra-index-url https://download.pytorch.org/whl/cpu\n",
    "\n",
    "# Uncomment for requirement libraries versions\n",
    "#!pip install -r requirements.txt "
   ]
  },
  {
   "cell_type": "code",
   "execution_count": 11,
   "id": "e0a70599",
   "metadata": {
    "pycharm": {
     "is_executing": true,
     "name": "#%%\n"
    }
   },
   "outputs": [],
   "source": [
    "import pandas as pd\n",
    "import torch\n",
    "import torchvision\n",
    "from sklearn.model_selection import train_test_split\n",
    "from sklearn.preprocessing import MaxAbsScaler\n",
    "from sklearn.preprocessing import StandardScaler\n",
    "import numpy as np \n",
    "import torch.optim as optim\n",
    "import torch.nn as nn  # The torch.nn import gives us access to some helpful neural network things\n",
    "import torch.nn.functional as F # \n",
    "import matplotlib.pyplot as plt\n",
    "import ipaddress"
   ]
  },
  {
   "cell_type": "code",
   "execution_count": 4,
   "id": "2743be25",
   "metadata": {},
   "outputs": [],
   "source": [
    "df_copy=pd.read_csv('.\\CSV_TXT\\CICDS2017_clean.csv')"
   ]
  },
  {
   "cell_type": "code",
   "execution_count": 5,
   "id": "99b31a9e",
   "metadata": {},
   "outputs": [
    {
     "data": {
      "text/plain": [
       "Index(['Unnamed: 0', ' Destination Port', ' Flow Duration',\n",
       "       ' Total Fwd Packets', ' Total Backward Packets',\n",
       "       'Total Length of Fwd Packets', ' Total Length of Bwd Packets',\n",
       "       ' Fwd Packet Length Max', ' Fwd Packet Length Min',\n",
       "       ' Fwd Packet Length Mean', ' Fwd Packet Length Std',\n",
       "       'Bwd Packet Length Max', ' Bwd Packet Length Min',\n",
       "       ' Bwd Packet Length Mean', ' Bwd Packet Length Std', 'Flow Bytes/s',\n",
       "       ' Flow Packets/s', ' Flow IAT Mean', ' Flow IAT Std', ' Flow IAT Max',\n",
       "       ' Flow IAT Min', 'Fwd IAT Total', ' Fwd IAT Mean', ' Fwd IAT Std',\n",
       "       ' Fwd IAT Max', ' Fwd IAT Min', 'Bwd IAT Total', ' Bwd IAT Mean',\n",
       "       ' Bwd IAT Std', ' Bwd IAT Max', ' Bwd IAT Min', 'Fwd PSH Flags',\n",
       "       ' Bwd PSH Flags', ' Fwd URG Flags', ' Bwd URG Flags',\n",
       "       ' Fwd Header Length', ' Bwd Header Length', 'Fwd Packets/s',\n",
       "       ' Bwd Packets/s', ' Min Packet Length', ' Max Packet Length',\n",
       "       ' Packet Length Mean', ' Packet Length Std', ' Packet Length Variance',\n",
       "       'FIN Flag Count', ' SYN Flag Count', ' RST Flag Count',\n",
       "       ' PSH Flag Count', ' ACK Flag Count', ' URG Flag Count',\n",
       "       ' CWE Flag Count', ' ECE Flag Count', ' Down/Up Ratio',\n",
       "       ' Average Packet Size', ' Avg Fwd Segment Size',\n",
       "       ' Avg Bwd Segment Size', ' Fwd Header Length.1', 'Fwd Avg Bytes/Bulk',\n",
       "       ' Fwd Avg Packets/Bulk', ' Fwd Avg Bulk Rate', ' Bwd Avg Bytes/Bulk',\n",
       "       ' Bwd Avg Packets/Bulk', 'Bwd Avg Bulk Rate', 'Subflow Fwd Packets',\n",
       "       ' Subflow Fwd Bytes', ' Subflow Bwd Packets', ' Subflow Bwd Bytes',\n",
       "       'Init_Win_bytes_forward', ' Init_Win_bytes_backward',\n",
       "       ' act_data_pkt_fwd', ' min_seg_size_forward', 'Active Mean',\n",
       "       ' Active Std', ' Active Max', ' Active Min', 'Idle Mean', ' Idle Std',\n",
       "       ' Idle Max', ' Idle Min', 'Label', 'Total Bi Packets'],\n",
       "      dtype='object')"
      ]
     },
     "execution_count": 5,
     "metadata": {},
     "output_type": "execute_result"
    }
   ],
   "source": [
    "df_copy.columns"
   ]
  },
  {
   "attachments": {},
   "cell_type": "markdown",
   "id": "f1940679",
   "metadata": {},
   "source": [
    "#  Division into datasets for training"
   ]
  },
  {
   "cell_type": "code",
   "execution_count": 6,
   "id": "d1e8ae98",
   "metadata": {},
   "outputs": [
    {
     "name": "stderr",
     "output_type": "stream",
     "text": [
      "C:\\Users\\Informatica\\AppData\\Local\\Temp\\ipykernel_11524\\2077438084.py:1: FutureWarning: Passing a set as an indexer is deprecated and will raise in a future version. Use a list instead.\n",
      "  df_X= df_copy[{' Destination Port',' Total Fwd Packets',' Total Backward Packets'}]\n"
     ]
    }
   ],
   "source": [
    "df_X= df_copy[{' Destination Port',' Total Fwd Packets',' Total Backward Packets'}] \n",
    "df_Y=df_copy['Label']"
   ]
  },
  {
   "cell_type": "code",
   "execution_count": 7,
   "id": "6a4835bb",
   "metadata": {},
   "outputs": [
    {
     "data": {
      "text/html": [
       "<div>\n",
       "<style scoped>\n",
       "    .dataframe tbody tr th:only-of-type {\n",
       "        vertical-align: middle;\n",
       "    }\n",
       "\n",
       "    .dataframe tbody tr th {\n",
       "        vertical-align: top;\n",
       "    }\n",
       "\n",
       "    .dataframe thead th {\n",
       "        text-align: right;\n",
       "    }\n",
       "</style>\n",
       "<table border=\"1\" class=\"dataframe\">\n",
       "  <thead>\n",
       "    <tr style=\"text-align: right;\">\n",
       "      <th></th>\n",
       "      <th>Total Fwd Packets</th>\n",
       "      <th>Destination Port</th>\n",
       "      <th>Total Backward Packets</th>\n",
       "    </tr>\n",
       "  </thead>\n",
       "  <tbody>\n",
       "    <tr>\n",
       "      <th>0</th>\n",
       "      <td>9.0</td>\n",
       "      <td>8080.0</td>\n",
       "      <td>9.0</td>\n",
       "    </tr>\n",
       "    <tr>\n",
       "      <th>1</th>\n",
       "      <td>1.0</td>\n",
       "      <td>8080.0</td>\n",
       "      <td>1.0</td>\n",
       "    </tr>\n",
       "    <tr>\n",
       "      <th>2</th>\n",
       "      <td>4.0</td>\n",
       "      <td>8080.0</td>\n",
       "      <td>3.0</td>\n",
       "    </tr>\n",
       "    <tr>\n",
       "      <th>3</th>\n",
       "      <td>1.0</td>\n",
       "      <td>1841.0</td>\n",
       "      <td>1.0</td>\n",
       "    </tr>\n",
       "    <tr>\n",
       "      <th>4</th>\n",
       "      <td>4.0</td>\n",
       "      <td>8080.0</td>\n",
       "      <td>3.0</td>\n",
       "    </tr>\n",
       "    <tr>\n",
       "      <th>5</th>\n",
       "      <td>1.0</td>\n",
       "      <td>1845.0</td>\n",
       "      <td>1.0</td>\n",
       "    </tr>\n",
       "    <tr>\n",
       "      <th>6</th>\n",
       "      <td>5.0</td>\n",
       "      <td>8080.0</td>\n",
       "      <td>4.0</td>\n",
       "    </tr>\n",
       "    <tr>\n",
       "      <th>7</th>\n",
       "      <td>4.0</td>\n",
       "      <td>8080.0</td>\n",
       "      <td>3.0</td>\n",
       "    </tr>\n",
       "    <tr>\n",
       "      <th>8</th>\n",
       "      <td>1.0</td>\n",
       "      <td>1846.0</td>\n",
       "      <td>1.0</td>\n",
       "    </tr>\n",
       "    <tr>\n",
       "      <th>9</th>\n",
       "      <td>1.0</td>\n",
       "      <td>1847.0</td>\n",
       "      <td>1.0</td>\n",
       "    </tr>\n",
       "  </tbody>\n",
       "</table>\n",
       "</div>"
      ],
      "text/plain": [
       "    Total Fwd Packets   Destination Port   Total Backward Packets\n",
       "0                 9.0             8080.0                      9.0\n",
       "1                 1.0             8080.0                      1.0\n",
       "2                 4.0             8080.0                      3.0\n",
       "3                 1.0             1841.0                      1.0\n",
       "4                 4.0             8080.0                      3.0\n",
       "5                 1.0             1845.0                      1.0\n",
       "6                 5.0             8080.0                      4.0\n",
       "7                 4.0             8080.0                      3.0\n",
       "8                 1.0             1846.0                      1.0\n",
       "9                 1.0             1847.0                      1.0"
      ]
     },
     "execution_count": 7,
     "metadata": {},
     "output_type": "execute_result"
    }
   ],
   "source": [
    "df_X.head(10)"
   ]
  },
  {
   "cell_type": "code",
   "execution_count": 8,
   "id": "d378dce6",
   "metadata": {
    "pycharm": {
     "name": "#%%\n"
    }
   },
   "outputs": [
    {
     "data": {
      "text/html": [
       "<div>\n",
       "<style scoped>\n",
       "    .dataframe tbody tr th:only-of-type {\n",
       "        vertical-align: middle;\n",
       "    }\n",
       "\n",
       "    .dataframe tbody tr th {\n",
       "        vertical-align: top;\n",
       "    }\n",
       "\n",
       "    .dataframe thead th {\n",
       "        text-align: right;\n",
       "    }\n",
       "</style>\n",
       "<table border=\"1\" class=\"dataframe\">\n",
       "  <thead>\n",
       "    <tr style=\"text-align: right;\">\n",
       "      <th></th>\n",
       "      <th>Total Fwd Packets</th>\n",
       "      <th>Destination Port</th>\n",
       "      <th>Total Backward Packets</th>\n",
       "    </tr>\n",
       "  </thead>\n",
       "  <tbody>\n",
       "    <tr>\n",
       "      <th>count</th>\n",
       "      <td>3.670266e+06</td>\n",
       "      <td>3.670266e+06</td>\n",
       "      <td>3.670266e+06</td>\n",
       "    </tr>\n",
       "    <tr>\n",
       "      <th>mean</th>\n",
       "      <td>1.013496e+02</td>\n",
       "      <td>6.579399e+03</td>\n",
       "      <td>8.308997e+01</td>\n",
       "    </tr>\n",
       "    <tr>\n",
       "      <th>std</th>\n",
       "      <td>8.327601e+02</td>\n",
       "      <td>1.667816e+04</td>\n",
       "      <td>9.706190e+02</td>\n",
       "    </tr>\n",
       "    <tr>\n",
       "      <th>min</th>\n",
       "      <td>1.000000e+00</td>\n",
       "      <td>0.000000e+00</td>\n",
       "      <td>0.000000e+00</td>\n",
       "    </tr>\n",
       "    <tr>\n",
       "      <th>25%</th>\n",
       "      <td>2.000000e+00</td>\n",
       "      <td>5.300000e+01</td>\n",
       "      <td>1.000000e+00</td>\n",
       "    </tr>\n",
       "    <tr>\n",
       "      <th>50%</th>\n",
       "      <td>2.000000e+00</td>\n",
       "      <td>8.000000e+01</td>\n",
       "      <td>2.000000e+00</td>\n",
       "    </tr>\n",
       "    <tr>\n",
       "      <th>75%</th>\n",
       "      <td>7.000000e+00</td>\n",
       "      <td>4.430000e+02</td>\n",
       "      <td>5.000000e+00</td>\n",
       "    </tr>\n",
       "    <tr>\n",
       "      <th>max</th>\n",
       "      <td>2.197590e+05</td>\n",
       "      <td>6.553500e+04</td>\n",
       "      <td>2.919220e+05</td>\n",
       "    </tr>\n",
       "  </tbody>\n",
       "</table>\n",
       "</div>"
      ],
      "text/plain": [
       "        Total Fwd Packets   Destination Port   Total Backward Packets\n",
       "count        3.670266e+06       3.670266e+06             3.670266e+06\n",
       "mean         1.013496e+02       6.579399e+03             8.308997e+01\n",
       "std          8.327601e+02       1.667816e+04             9.706190e+02\n",
       "min          1.000000e+00       0.000000e+00             0.000000e+00\n",
       "25%          2.000000e+00       5.300000e+01             1.000000e+00\n",
       "50%          2.000000e+00       8.000000e+01             2.000000e+00\n",
       "75%          7.000000e+00       4.430000e+02             5.000000e+00\n",
       "max          2.197590e+05       6.553500e+04             2.919220e+05"
      ]
     },
     "execution_count": 8,
     "metadata": {},
     "output_type": "execute_result"
    }
   ],
   "source": [
    "df_X.describe()"
   ]
  },
  {
   "cell_type": "code",
   "execution_count": 9,
   "id": "72e32995-0f72-4195-ad45-e815f7627793",
   "metadata": {},
   "outputs": [
    {
     "data": {
      "text/plain": [
       "0          1.0\n",
       "1          1.0\n",
       "2          1.0\n",
       "3          1.0\n",
       "4          1.0\n",
       "          ... \n",
       "3670261    0.0\n",
       "3670262    0.0\n",
       "3670263    0.0\n",
       "3670264    0.0\n",
       "3670265    0.0\n",
       "Name: Label, Length: 3670266, dtype: float64"
      ]
     },
     "execution_count": 9,
     "metadata": {},
     "output_type": "execute_result"
    }
   ],
   "source": [
    "df_Y"
   ]
  },
  {
   "cell_type": "code",
   "execution_count": 10,
   "id": "25eccc01",
   "metadata": {
    "pycharm": {
     "name": "#%%\n"
    }
   },
   "outputs": [],
   "source": [
    "df_Xbin=df_X.copy()\n",
    "df_Ybin=df_Y"
   ]
  },
  {
   "cell_type": "code",
   "execution_count": 12,
   "id": "dc6788c9",
   "metadata": {
    "pycharm": {
     "name": "#%%\n"
    }
   },
   "outputs": [],
   "source": [
    "fix_ip=32\n",
    "fix_port=16\n",
    "fix_proto=8\n",
    "fix_len=32\n",
    "complete= 0\n",
    "\n",
    "def ip_binary(x):\n",
    "    binary_num=bin(int(ipaddress.IPv4Address(x)))\n",
    "    len_binary=len(binary_num)\n",
    "    if len_binary== 34:\n",
    "        return binary_num[2:] \n",
    "    else:\n",
    "        complete=fix_ip-(len_binary-2)\n",
    "        cero='0'\n",
    "        cero_complete=cero*complete \n",
    "        new_binary = binary_num.replace(\"0b\", cero_complete)\n",
    "        return new_binary\n",
    "\n",
    "def port_binary(x):\n",
    "    binary_num=bin(int(x))\n",
    "    len_binary=len(binary_num)\n",
    "    if len_binary== 18:\n",
    "        return binary_num[2:] \n",
    "    else:\n",
    "        complete=fix_port-(len_binary-2)\n",
    "        cero='0'\n",
    "        cero_complete=cero*complete \n",
    "        new_binary = binary_num.replace(\"0b\", cero_complete)\n",
    "        return new_binary\n",
    "\n",
    "def proto_binary(x):\n",
    "    binary_num=bin(int(x))\n",
    "    len_binary=len(binary_num)\n",
    "    if len_binary== 10:\n",
    "        return binary_num[2:] \n",
    "    else:\n",
    "        complete=fix_proto-(len_binary-2)\n",
    "        cero='0'\n",
    "        cero_complete=cero*complete \n",
    "        new_binary = binary_num.replace(\"0b\", cero_complete)\n",
    "        return new_binary\n",
    "    \n",
    "def totpackets_binary(x):\n",
    "    binary_num=bin(int((x)))\n",
    "    #fix_packets=16\n",
    "    len_binary=len(binary_num)\n",
    "    #print(len_binary)\n",
    "    if len_binary== 34:\n",
    "        return binary_num[2:] \n",
    "    else:\n",
    "        complete=fix_len-(len_binary-2)\n",
    "        cero='0'\n",
    "        cero_complete=cero*complete \n",
    "        new_binary = binary_num.replace(\"0b\", cero_complete)\n",
    "        return new_binary"
   ]
  },
  {
   "cell_type": "code",
   "execution_count": 13,
   "id": "786e9c4c",
   "metadata": {
    "pycharm": {
     "name": "#%%\n"
    }
   },
   "outputs": [],
   "source": [
    "df_Xbin.loc[:,' Destination Port'] = df_Xbin.loc[:,' Destination Port'].apply(lambda x:port_binary(x))\n",
    "df_Xbin.loc[:,' Total Fwd Packets'] = df_Xbin.loc[:,' Total Fwd Packets'].apply(lambda x:totpackets_binary(x))\n",
    "df_Xbin.loc[:,' Total Backward Packets'] = df_Xbin.loc[:,' Total Backward Packets'].apply(lambda x:totpackets_binary(x))"
   ]
  },
  {
   "cell_type": "code",
   "execution_count": 14,
   "id": "bf7439b0",
   "metadata": {
    "pycharm": {
     "name": "#%%\n"
    }
   },
   "outputs": [
    {
     "data": {
      "text/html": [
       "<div>\n",
       "<style scoped>\n",
       "    .dataframe tbody tr th:only-of-type {\n",
       "        vertical-align: middle;\n",
       "    }\n",
       "\n",
       "    .dataframe tbody tr th {\n",
       "        vertical-align: top;\n",
       "    }\n",
       "\n",
       "    .dataframe thead th {\n",
       "        text-align: right;\n",
       "    }\n",
       "</style>\n",
       "<table border=\"1\" class=\"dataframe\">\n",
       "  <thead>\n",
       "    <tr style=\"text-align: right;\">\n",
       "      <th></th>\n",
       "      <th>Total Fwd Packets</th>\n",
       "      <th>Destination Port</th>\n",
       "      <th>Total Backward Packets</th>\n",
       "    </tr>\n",
       "  </thead>\n",
       "  <tbody>\n",
       "    <tr>\n",
       "      <th>0</th>\n",
       "      <td>00000000000000000000000000001001</td>\n",
       "      <td>0001111110010000</td>\n",
       "      <td>00000000000000000000000000001001</td>\n",
       "    </tr>\n",
       "    <tr>\n",
       "      <th>1</th>\n",
       "      <td>00000000000000000000000000000001</td>\n",
       "      <td>0001111110010000</td>\n",
       "      <td>00000000000000000000000000000001</td>\n",
       "    </tr>\n",
       "    <tr>\n",
       "      <th>2</th>\n",
       "      <td>00000000000000000000000000000100</td>\n",
       "      <td>0001111110010000</td>\n",
       "      <td>00000000000000000000000000000011</td>\n",
       "    </tr>\n",
       "    <tr>\n",
       "      <th>3</th>\n",
       "      <td>00000000000000000000000000000001</td>\n",
       "      <td>0000011100110001</td>\n",
       "      <td>00000000000000000000000000000001</td>\n",
       "    </tr>\n",
       "    <tr>\n",
       "      <th>4</th>\n",
       "      <td>00000000000000000000000000000100</td>\n",
       "      <td>0001111110010000</td>\n",
       "      <td>00000000000000000000000000000011</td>\n",
       "    </tr>\n",
       "    <tr>\n",
       "      <th>...</th>\n",
       "      <td>...</td>\n",
       "      <td>...</td>\n",
       "      <td>...</td>\n",
       "    </tr>\n",
       "    <tr>\n",
       "      <th>3670261</th>\n",
       "      <td>00000000000000000000000000000100</td>\n",
       "      <td>0000000000110101</td>\n",
       "      <td>00000000000000000000000000000010</td>\n",
       "    </tr>\n",
       "    <tr>\n",
       "      <th>3670262</th>\n",
       "      <td>00000000000000000000000000000010</td>\n",
       "      <td>0000000000110101</td>\n",
       "      <td>00000000000000000000000000000010</td>\n",
       "    </tr>\n",
       "    <tr>\n",
       "      <th>3670263</th>\n",
       "      <td>00000000000000000000000000000010</td>\n",
       "      <td>1110001010101110</td>\n",
       "      <td>00000000000000000000000000000001</td>\n",
       "    </tr>\n",
       "    <tr>\n",
       "      <th>3670264</th>\n",
       "      <td>00000000000000000000000000000110</td>\n",
       "      <td>0000000000110101</td>\n",
       "      <td>00000000000000000000000000000010</td>\n",
       "    </tr>\n",
       "    <tr>\n",
       "      <th>3670265</th>\n",
       "      <td>00000000000000000000000000000100</td>\n",
       "      <td>0000000000110101</td>\n",
       "      <td>00000000000000000000000000000010</td>\n",
       "    </tr>\n",
       "  </tbody>\n",
       "</table>\n",
       "<p>3670266 rows × 3 columns</p>\n",
       "</div>"
      ],
      "text/plain": [
       "                        Total Fwd Packets  Destination Port  \\\n",
       "0        00000000000000000000000000001001  0001111110010000   \n",
       "1        00000000000000000000000000000001  0001111110010000   \n",
       "2        00000000000000000000000000000100  0001111110010000   \n",
       "3        00000000000000000000000000000001  0000011100110001   \n",
       "4        00000000000000000000000000000100  0001111110010000   \n",
       "...                                   ...               ...   \n",
       "3670261  00000000000000000000000000000100  0000000000110101   \n",
       "3670262  00000000000000000000000000000010  0000000000110101   \n",
       "3670263  00000000000000000000000000000010  1110001010101110   \n",
       "3670264  00000000000000000000000000000110  0000000000110101   \n",
       "3670265  00000000000000000000000000000100  0000000000110101   \n",
       "\n",
       "                   Total Backward Packets  \n",
       "0        00000000000000000000000000001001  \n",
       "1        00000000000000000000000000000001  \n",
       "2        00000000000000000000000000000011  \n",
       "3        00000000000000000000000000000001  \n",
       "4        00000000000000000000000000000011  \n",
       "...                                   ...  \n",
       "3670261  00000000000000000000000000000010  \n",
       "3670262  00000000000000000000000000000010  \n",
       "3670263  00000000000000000000000000000001  \n",
       "3670264  00000000000000000000000000000010  \n",
       "3670265  00000000000000000000000000000010  \n",
       "\n",
       "[3670266 rows x 3 columns]"
      ]
     },
     "execution_count": 14,
     "metadata": {},
     "output_type": "execute_result"
    }
   ],
   "source": [
    "df_Xbin"
   ]
  },
  {
   "cell_type": "code",
   "execution_count": 15,
   "id": "5b840d75",
   "metadata": {
    "pycharm": {
     "name": "#%%\n"
    }
   },
   "outputs": [],
   "source": [
    "df_XbinNN=df_Xbin.copy()\n",
    "df_YbinNN=df_Ybin.copy()"
   ]
  },
  {
   "cell_type": "code",
   "execution_count": 16,
   "id": "38db86cf",
   "metadata": {
    "pycharm": {
     "name": "#%%\n"
    }
   },
   "outputs": [],
   "source": [
    "def Conv_bin1(string):\n",
    "    vector=[]\n",
    "    for i in string:\n",
    "        vector.append(i)\n",
    "        \n",
    "    for k in range(len(vector)):\n",
    "        if vector[k]=='1':vector[k]=float('1')\n",
    "        elif vector[k]=='0':vector[k]=float('0')\n",
    "            \n",
    "    return vector"
   ]
  },
  {
   "cell_type": "code",
   "execution_count": 17,
   "id": "9e442adf",
   "metadata": {
    "pycharm": {
     "name": "#%%\n"
    }
   },
   "outputs": [],
   "source": [
    "df_XbinNN.loc[:,' Destination Port'] = df_XbinNN[' Destination Port'].apply(lambda x:Conv_bin1(x))\n",
    "df_XbinNN.loc[:,' Total Fwd Packets'] = df_XbinNN[' Total Fwd Packets'].apply(lambda x:Conv_bin1(x))\n",
    "df_XbinNN.loc[:,' Total Backward Packets'] = df_XbinNN[' Total Backward Packets'].apply(lambda x:Conv_bin1(x))"
   ]
  },
  {
   "cell_type": "code",
   "execution_count": 18,
   "id": "4afd3822",
   "metadata": {
    "pycharm": {
     "name": "#%%\n"
    }
   },
   "outputs": [
    {
     "data": {
      "text/html": [
       "<div>\n",
       "<style scoped>\n",
       "    .dataframe tbody tr th:only-of-type {\n",
       "        vertical-align: middle;\n",
       "    }\n",
       "\n",
       "    .dataframe tbody tr th {\n",
       "        vertical-align: top;\n",
       "    }\n",
       "\n",
       "    .dataframe thead th {\n",
       "        text-align: right;\n",
       "    }\n",
       "</style>\n",
       "<table border=\"1\" class=\"dataframe\">\n",
       "  <thead>\n",
       "    <tr style=\"text-align: right;\">\n",
       "      <th></th>\n",
       "      <th>Total Fwd Packets</th>\n",
       "      <th>Destination Port</th>\n",
       "      <th>Total Backward Packets</th>\n",
       "    </tr>\n",
       "  </thead>\n",
       "  <tbody>\n",
       "    <tr>\n",
       "      <th>0</th>\n",
       "      <td>[0.0, 0.0, 0.0, 0.0, 0.0, 0.0, 0.0, 0.0, 0.0, ...</td>\n",
       "      <td>[0.0, 0.0, 0.0, 1.0, 1.0, 1.0, 1.0, 1.0, 1.0, ...</td>\n",
       "      <td>[0.0, 0.0, 0.0, 0.0, 0.0, 0.0, 0.0, 0.0, 0.0, ...</td>\n",
       "    </tr>\n",
       "    <tr>\n",
       "      <th>1</th>\n",
       "      <td>[0.0, 0.0, 0.0, 0.0, 0.0, 0.0, 0.0, 0.0, 0.0, ...</td>\n",
       "      <td>[0.0, 0.0, 0.0, 1.0, 1.0, 1.0, 1.0, 1.0, 1.0, ...</td>\n",
       "      <td>[0.0, 0.0, 0.0, 0.0, 0.0, 0.0, 0.0, 0.0, 0.0, ...</td>\n",
       "    </tr>\n",
       "    <tr>\n",
       "      <th>2</th>\n",
       "      <td>[0.0, 0.0, 0.0, 0.0, 0.0, 0.0, 0.0, 0.0, 0.0, ...</td>\n",
       "      <td>[0.0, 0.0, 0.0, 1.0, 1.0, 1.0, 1.0, 1.0, 1.0, ...</td>\n",
       "      <td>[0.0, 0.0, 0.0, 0.0, 0.0, 0.0, 0.0, 0.0, 0.0, ...</td>\n",
       "    </tr>\n",
       "    <tr>\n",
       "      <th>3</th>\n",
       "      <td>[0.0, 0.0, 0.0, 0.0, 0.0, 0.0, 0.0, 0.0, 0.0, ...</td>\n",
       "      <td>[0.0, 0.0, 0.0, 0.0, 0.0, 1.0, 1.0, 1.0, 0.0, ...</td>\n",
       "      <td>[0.0, 0.0, 0.0, 0.0, 0.0, 0.0, 0.0, 0.0, 0.0, ...</td>\n",
       "    </tr>\n",
       "    <tr>\n",
       "      <th>4</th>\n",
       "      <td>[0.0, 0.0, 0.0, 0.0, 0.0, 0.0, 0.0, 0.0, 0.0, ...</td>\n",
       "      <td>[0.0, 0.0, 0.0, 1.0, 1.0, 1.0, 1.0, 1.0, 1.0, ...</td>\n",
       "      <td>[0.0, 0.0, 0.0, 0.0, 0.0, 0.0, 0.0, 0.0, 0.0, ...</td>\n",
       "    </tr>\n",
       "    <tr>\n",
       "      <th>...</th>\n",
       "      <td>...</td>\n",
       "      <td>...</td>\n",
       "      <td>...</td>\n",
       "    </tr>\n",
       "    <tr>\n",
       "      <th>3670261</th>\n",
       "      <td>[0.0, 0.0, 0.0, 0.0, 0.0, 0.0, 0.0, 0.0, 0.0, ...</td>\n",
       "      <td>[0.0, 0.0, 0.0, 0.0, 0.0, 0.0, 0.0, 0.0, 0.0, ...</td>\n",
       "      <td>[0.0, 0.0, 0.0, 0.0, 0.0, 0.0, 0.0, 0.0, 0.0, ...</td>\n",
       "    </tr>\n",
       "    <tr>\n",
       "      <th>3670262</th>\n",
       "      <td>[0.0, 0.0, 0.0, 0.0, 0.0, 0.0, 0.0, 0.0, 0.0, ...</td>\n",
       "      <td>[0.0, 0.0, 0.0, 0.0, 0.0, 0.0, 0.0, 0.0, 0.0, ...</td>\n",
       "      <td>[0.0, 0.0, 0.0, 0.0, 0.0, 0.0, 0.0, 0.0, 0.0, ...</td>\n",
       "    </tr>\n",
       "    <tr>\n",
       "      <th>3670263</th>\n",
       "      <td>[0.0, 0.0, 0.0, 0.0, 0.0, 0.0, 0.0, 0.0, 0.0, ...</td>\n",
       "      <td>[1.0, 1.0, 1.0, 0.0, 0.0, 0.0, 1.0, 0.0, 1.0, ...</td>\n",
       "      <td>[0.0, 0.0, 0.0, 0.0, 0.0, 0.0, 0.0, 0.0, 0.0, ...</td>\n",
       "    </tr>\n",
       "    <tr>\n",
       "      <th>3670264</th>\n",
       "      <td>[0.0, 0.0, 0.0, 0.0, 0.0, 0.0, 0.0, 0.0, 0.0, ...</td>\n",
       "      <td>[0.0, 0.0, 0.0, 0.0, 0.0, 0.0, 0.0, 0.0, 0.0, ...</td>\n",
       "      <td>[0.0, 0.0, 0.0, 0.0, 0.0, 0.0, 0.0, 0.0, 0.0, ...</td>\n",
       "    </tr>\n",
       "    <tr>\n",
       "      <th>3670265</th>\n",
       "      <td>[0.0, 0.0, 0.0, 0.0, 0.0, 0.0, 0.0, 0.0, 0.0, ...</td>\n",
       "      <td>[0.0, 0.0, 0.0, 0.0, 0.0, 0.0, 0.0, 0.0, 0.0, ...</td>\n",
       "      <td>[0.0, 0.0, 0.0, 0.0, 0.0, 0.0, 0.0, 0.0, 0.0, ...</td>\n",
       "    </tr>\n",
       "  </tbody>\n",
       "</table>\n",
       "<p>3670266 rows × 3 columns</p>\n",
       "</div>"
      ],
      "text/plain": [
       "                                         Total Fwd Packets  \\\n",
       "0        [0.0, 0.0, 0.0, 0.0, 0.0, 0.0, 0.0, 0.0, 0.0, ...   \n",
       "1        [0.0, 0.0, 0.0, 0.0, 0.0, 0.0, 0.0, 0.0, 0.0, ...   \n",
       "2        [0.0, 0.0, 0.0, 0.0, 0.0, 0.0, 0.0, 0.0, 0.0, ...   \n",
       "3        [0.0, 0.0, 0.0, 0.0, 0.0, 0.0, 0.0, 0.0, 0.0, ...   \n",
       "4        [0.0, 0.0, 0.0, 0.0, 0.0, 0.0, 0.0, 0.0, 0.0, ...   \n",
       "...                                                    ...   \n",
       "3670261  [0.0, 0.0, 0.0, 0.0, 0.0, 0.0, 0.0, 0.0, 0.0, ...   \n",
       "3670262  [0.0, 0.0, 0.0, 0.0, 0.0, 0.0, 0.0, 0.0, 0.0, ...   \n",
       "3670263  [0.0, 0.0, 0.0, 0.0, 0.0, 0.0, 0.0, 0.0, 0.0, ...   \n",
       "3670264  [0.0, 0.0, 0.0, 0.0, 0.0, 0.0, 0.0, 0.0, 0.0, ...   \n",
       "3670265  [0.0, 0.0, 0.0, 0.0, 0.0, 0.0, 0.0, 0.0, 0.0, ...   \n",
       "\n",
       "                                          Destination Port  \\\n",
       "0        [0.0, 0.0, 0.0, 1.0, 1.0, 1.0, 1.0, 1.0, 1.0, ...   \n",
       "1        [0.0, 0.0, 0.0, 1.0, 1.0, 1.0, 1.0, 1.0, 1.0, ...   \n",
       "2        [0.0, 0.0, 0.0, 1.0, 1.0, 1.0, 1.0, 1.0, 1.0, ...   \n",
       "3        [0.0, 0.0, 0.0, 0.0, 0.0, 1.0, 1.0, 1.0, 0.0, ...   \n",
       "4        [0.0, 0.0, 0.0, 1.0, 1.0, 1.0, 1.0, 1.0, 1.0, ...   \n",
       "...                                                    ...   \n",
       "3670261  [0.0, 0.0, 0.0, 0.0, 0.0, 0.0, 0.0, 0.0, 0.0, ...   \n",
       "3670262  [0.0, 0.0, 0.0, 0.0, 0.0, 0.0, 0.0, 0.0, 0.0, ...   \n",
       "3670263  [1.0, 1.0, 1.0, 0.0, 0.0, 0.0, 1.0, 0.0, 1.0, ...   \n",
       "3670264  [0.0, 0.0, 0.0, 0.0, 0.0, 0.0, 0.0, 0.0, 0.0, ...   \n",
       "3670265  [0.0, 0.0, 0.0, 0.0, 0.0, 0.0, 0.0, 0.0, 0.0, ...   \n",
       "\n",
       "                                    Total Backward Packets  \n",
       "0        [0.0, 0.0, 0.0, 0.0, 0.0, 0.0, 0.0, 0.0, 0.0, ...  \n",
       "1        [0.0, 0.0, 0.0, 0.0, 0.0, 0.0, 0.0, 0.0, 0.0, ...  \n",
       "2        [0.0, 0.0, 0.0, 0.0, 0.0, 0.0, 0.0, 0.0, 0.0, ...  \n",
       "3        [0.0, 0.0, 0.0, 0.0, 0.0, 0.0, 0.0, 0.0, 0.0, ...  \n",
       "4        [0.0, 0.0, 0.0, 0.0, 0.0, 0.0, 0.0, 0.0, 0.0, ...  \n",
       "...                                                    ...  \n",
       "3670261  [0.0, 0.0, 0.0, 0.0, 0.0, 0.0, 0.0, 0.0, 0.0, ...  \n",
       "3670262  [0.0, 0.0, 0.0, 0.0, 0.0, 0.0, 0.0, 0.0, 0.0, ...  \n",
       "3670263  [0.0, 0.0, 0.0, 0.0, 0.0, 0.0, 0.0, 0.0, 0.0, ...  \n",
       "3670264  [0.0, 0.0, 0.0, 0.0, 0.0, 0.0, 0.0, 0.0, 0.0, ...  \n",
       "3670265  [0.0, 0.0, 0.0, 0.0, 0.0, 0.0, 0.0, 0.0, 0.0, ...  \n",
       "\n",
       "[3670266 rows x 3 columns]"
      ]
     },
     "execution_count": 18,
     "metadata": {},
     "output_type": "execute_result"
    }
   ],
   "source": [
    "df_XbinNN"
   ]
  },
  {
   "cell_type": "code",
   "execution_count": 19,
   "id": "c49c27c7",
   "metadata": {
    "pycharm": {
     "name": "#%%\n"
    }
   },
   "outputs": [],
   "source": [
    "df_XbinNN['final_vec'] = df_XbinNN[' Total Fwd Packets']+df_XbinNN[' Destination Port']+df_XbinNN[' Total Backward Packets']"
   ]
  },
  {
   "cell_type": "code",
   "execution_count": 20,
   "id": "c8ff92af",
   "metadata": {
    "pycharm": {
     "name": "#%%\n"
    }
   },
   "outputs": [
    {
     "data": {
      "text/plain": [
       "0    [0.0, 0.0, 0.0, 0.0, 0.0, 0.0, 0.0, 0.0, 0.0, ...\n",
       "1    [0.0, 0.0, 0.0, 0.0, 0.0, 0.0, 0.0, 0.0, 0.0, ...\n",
       "2    [0.0, 0.0, 0.0, 0.0, 0.0, 0.0, 0.0, 0.0, 0.0, ...\n",
       "3    [0.0, 0.0, 0.0, 0.0, 0.0, 0.0, 0.0, 0.0, 0.0, ...\n",
       "4    [0.0, 0.0, 0.0, 0.0, 0.0, 0.0, 0.0, 0.0, 0.0, ...\n",
       "Name: final_vec, dtype: object"
      ]
     },
     "execution_count": 20,
     "metadata": {},
     "output_type": "execute_result"
    }
   ],
   "source": [
    "df_XbinNN['final_vec'].head()"
   ]
  },
  {
   "cell_type": "code",
   "execution_count": 21,
   "id": "e3ea37ca",
   "metadata": {},
   "outputs": [
    {
     "data": {
      "text/plain": [
       "0          1.0\n",
       "1          1.0\n",
       "2          1.0\n",
       "3          1.0\n",
       "4          1.0\n",
       "          ... \n",
       "3670261    0.0\n",
       "3670262    0.0\n",
       "3670263    0.0\n",
       "3670264    0.0\n",
       "3670265    0.0\n",
       "Name: Label, Length: 3670266, dtype: float64"
      ]
     },
     "execution_count": 21,
     "metadata": {},
     "output_type": "execute_result"
    }
   ],
   "source": [
    "df_YbinNN"
   ]
  },
  {
   "cell_type": "code",
   "execution_count": 22,
   "id": "c3eb0cfd",
   "metadata": {},
   "outputs": [
    {
     "data": {
      "text/plain": [
       "Text(0, 0.5, 'Number of Observations')"
      ]
     },
     "execution_count": 22,
     "metadata": {},
     "output_type": "execute_result"
    },
    {
     "data": {
      "image/png": "[encoded data removed]",
      "text/plain": [
       "<Figure size 640x480 with 1 Axes>"
      ]
     },
     "metadata": {},
     "output_type": "display_data"
    }
   ],
   "source": [
    "count_classes = pd.value_counts(df_YbinNN, sort = True)\n",
    "count_classes.plot(kind = 'bar', rot=0)\n",
    "plt.xticks(range(2), {'Attack','Normal'})\n",
    "plt.title(\"Frequency by observation number\")\n",
    "plt.xlabel(\"Class\")\n",
    "plt.ylabel(\"Number of Observations\")"
   ]
  },
  {
   "cell_type": "code",
   "execution_count": 78,
   "id": "afb5a7cc-f5c1-497b-9be8-43688864a9cc",
   "metadata": {},
   "outputs": [],
   "source": [
    "# Uncomment to Save data\n",
    "#df_XbinNN['final_vec'].to_csv('Datos_Trans01.csv', sep=',')\n",
    "#df_YbinNN.to_csv('labels01.csv')\n",
    "# Uncomment to save data\n",
    "#Xbin_NN=pd.read_csv('.\\CSV_TXT\\Datos_Trans01.csv')"
   ]
  },
  {
   "cell_type": "code",
   "execution_count": 23,
   "id": "1e581917",
   "metadata": {
    "pycharm": {
     "name": "#%%\n"
    }
   },
   "outputs": [],
   "source": [
    "# Conjunto mejor random_state=3\n",
    "from sklearn.model_selection import train_test_split\n",
    "\n",
    "x_trainNN, x_valNN, y_trainNN, y_valNN = train_test_split(df_XbinNN['final_vec'], df_YbinNN, train_size=0.7,random_state = 42)\n",
    "x_valNN, x_testNN, y_valNN, y_testNN = train_test_split(x_valNN, y_valNN, test_size=0.5, random_state = 42)"
   ]
  },
  {
   "cell_type": "code",
   "execution_count": 24,
   "id": "f4d83a26",
   "metadata": {
    "pycharm": {
     "name": "#%%\n"
    }
   },
   "outputs": [],
   "source": [
    "target_trainNN= torch.from_numpy(np.array(y_trainNN))\n",
    "target_valNN= torch.from_numpy(np.array(y_valNN))\n",
    "target_testNN= torch.from_numpy(np.array(y_testNN))\n",
    "\n",
    "features_trainNN=torch.Tensor(list(x_trainNN))\n",
    "features_valNN=torch.Tensor(list(x_valNN))\n",
    "features_testNN= torch.Tensor(list(x_testNN)) "
   ]
  },
  {
   "cell_type": "code",
   "execution_count": 25,
   "id": "cab9231f",
   "metadata": {},
   "outputs": [
    {
     "data": {
      "text/plain": [
       "tensor([[0., 0., 0.,  ..., 0., 0., 1.],\n",
       "        [0., 0., 0.,  ..., 0., 0., 0.],\n",
       "        [0., 0., 0.,  ..., 1., 1., 0.],\n",
       "        ...,\n",
       "        [0., 0., 0.,  ..., 0., 1., 1.],\n",
       "        [0., 0., 0.,  ..., 1., 1., 0.],\n",
       "        [0., 0., 0.,  ..., 0., 0., 0.]])"
      ]
     },
     "execution_count": 25,
     "metadata": {},
     "output_type": "execute_result"
    }
   ],
   "source": [
    "features_valNN"
   ]
  },
  {
   "cell_type": "code",
   "execution_count": 26,
   "id": "6ed9eafa",
   "metadata": {},
   "outputs": [
    {
     "data": {
      "text/plain": [
       "\"\\nnp.savetxt('target_train.txt', target_train, fmt='%d')\\nnp.savetxt('target_val.txt', target_val, fmt='%d')\\nnp.savetxt('target_test.txt', target_test, fmt='%d')\\nnp.savetxt('features_train.txt', features_train, fmt='%d')\\nnp.savetxt('features_val.txt', features_val, fmt='%d')\\nnp.savetxt('features_test.txt', features_test, fmt='%d')\""
      ]
     },
     "execution_count": 26,
     "metadata": {},
     "output_type": "execute_result"
    }
   ],
   "source": [
    "# Uncomment to save txt data\n",
    "target_train= np.array(target_trainNN)\n",
    "target_val= np.array(target_valNN)\n",
    "target_test = np.array(target_testNN)\n",
    "features_train = np.array(features_trainNN)\n",
    "features_val = np.array(features_valNN)\n",
    "features_test = np.array(features_testNN)\n",
    "'''\n",
    "np.savetxt('target_train.txt', target_train, fmt='%d')\n",
    "np.savetxt('target_val.txt', target_val, fmt='%d')\n",
    "np.savetxt('target_test.txt', target_test, fmt='%d')\n",
    "np.savetxt('features_train.txt', features_train, fmt='%d')\n",
    "np.savetxt('features_val.txt', features_val, fmt='%d')\n",
    "np.savetxt('features_test.txt', features_test, fmt='%d')'''"
   ]
  },
  {
   "cell_type": "code",
   "execution_count": 85,
   "id": "c8a964df",
   "metadata": {},
   "outputs": [
    {
     "data": {
      "text/plain": [
       "\"a0 =torch.from_numpy(np.loadtxt('target_train.txt', dtype=int)) \\na1 =torch.from_numpy(np.loadtxt('target_val.txt', dtype=int)) \\na2 =torch.from_numpy(np.loadtxt('target_test.txt', dtype=int)) \\na3 =torch.torch.Tensor(np.loadtxt('features_train.txt', dtype=int))\\na4 =torch.torch.Tensor(np.loadtxt('features_val.txt', dtype=int))\\na5 =torch.torch.Tensor(np.loadtxt('features_test.txt', dtype=int)) \""
      ]
     },
     "execution_count": 85,
     "metadata": {},
     "output_type": "execute_result"
    }
   ],
   "source": [
    "# Uncomment to load data \n",
    "'''a0 =torch.from_numpy(np.loadtxt('target_train.txt', dtype=int)) \n",
    "a1 =torch.from_numpy(np.loadtxt('target_val.txt', dtype=int)) \n",
    "a2 =torch.from_numpy(np.loadtxt('target_test.txt', dtype=int)) \n",
    "a3 =torch.torch.Tensor(np.loadtxt('features_train.txt', dtype=int))\n",
    "a4 =torch.torch.Tensor(np.loadtxt('features_val.txt', dtype=int))\n",
    "a5 =torch.torch.Tensor(np.loadtxt('features_test.txt', dtype=int)) '''"
   ]
  },
  {
   "cell_type": "code",
   "execution_count": 27,
   "id": "7a21d19f",
   "metadata": {},
   "outputs": [
    {
     "data": {
      "text/plain": [
       "tensor([0., 0., 0., 0., 0., 0., 0., 0., 0., 0., 0., 0., 0., 0., 0., 0., 0., 0.,\n",
       "        0., 0., 0., 0., 0., 0., 0., 0., 0., 0., 0., 1., 1., 1., 0., 0., 0., 0.,\n",
       "        0., 0., 0., 1., 1., 0., 1., 1., 1., 0., 1., 1., 0., 0., 0., 0., 0., 0.,\n",
       "        0., 0., 0., 0., 0., 0., 0., 0., 0., 0., 0., 0., 0., 0., 0., 0., 0., 0.,\n",
       "        0., 0., 0., 0., 0., 1., 1., 0.])"
      ]
     },
     "execution_count": 27,
     "metadata": {},
     "output_type": "execute_result"
    }
   ],
   "source": [
    "features_trainNN[0]"
   ]
  },
  {
   "cell_type": "code",
   "execution_count": 28,
   "id": "e2a406b1",
   "metadata": {
    "pycharm": {
     "name": "#%%\n"
    }
   },
   "outputs": [],
   "source": [
    "trainNN = torch.utils.data.TensorDataset(features_trainNN, target_trainNN)\n",
    "testNN = torch.utils.data.TensorDataset(features_testNN, target_testNN)\n",
    "\n",
    "trainsetNN = torch.utils.data.DataLoader(trainNN, batch_size=10, shuffle=True)\n",
    "testsetNN = torch.utils.data.DataLoader(testNN, batch_size=10, shuffle=False)"
   ]
  },
  {
   "cell_type": "code",
   "execution_count": 29,
   "id": "2f54b549",
   "metadata": {
    "pycharm": {
     "name": "#%%\n"
    }
   },
   "outputs": [
    {
     "name": "stdout",
     "output_type": "stream",
     "text": [
      "[tensor([[0., 0., 0., 0., 0., 0., 0., 0., 0., 0., 0., 0., 0., 0., 0., 0., 0., 0.,\n",
      "         0., 0., 0., 0., 0., 0., 0., 0., 0., 0., 1., 0., 0., 1., 0., 0., 0., 0.,\n",
      "         0., 0., 0., 1., 1., 0., 1., 1., 1., 0., 1., 1., 0., 0., 0., 0., 0., 0.,\n",
      "         0., 0., 0., 0., 0., 0., 0., 0., 0., 0., 0., 0., 0., 0., 0., 0., 0., 0.,\n",
      "         0., 0., 0., 0., 1., 0., 0., 0.],\n",
      "        [0., 0., 0., 0., 0., 0., 0., 0., 0., 0., 0., 0., 0., 0., 0., 0., 0., 0.,\n",
      "         0., 0., 0., 0., 0., 0., 0., 0., 0., 0., 0., 0., 0., 1., 1., 0., 1., 1.,\n",
      "         0., 1., 1., 1., 0., 1., 1., 1., 0., 0., 0., 1., 0., 0., 0., 0., 0., 0.,\n",
      "         0., 0., 0., 0., 0., 0., 0., 0., 0., 0., 0., 0., 0., 0., 0., 0., 0., 0.,\n",
      "         0., 0., 0., 0., 0., 0., 0., 1.],\n",
      "        [0., 0., 0., 0., 0., 0., 0., 0., 0., 0., 0., 0., 0., 0., 0., 0., 0., 0.,\n",
      "         0., 0., 0., 0., 0., 0., 0., 0., 0., 0., 0., 0., 1., 1., 0., 0., 0., 0.,\n",
      "         0., 0., 0., 0., 0., 1., 0., 1., 0., 0., 0., 0., 0., 0., 0., 0., 0., 0.,\n",
      "         0., 0., 0., 0., 0., 0., 0., 0., 0., 0., 0., 0., 0., 0., 0., 0., 0., 0.,\n",
      "         0., 0., 0., 0., 0., 0., 0., 1.],\n",
      "        [0., 0., 0., 0., 0., 0., 0., 0., 0., 0., 0., 0., 0., 0., 0., 0., 0., 0.,\n",
      "         0., 0., 1., 0., 1., 0., 1., 1., 1., 1., 0., 1., 0., 1., 0., 0., 0., 0.,\n",
      "         0., 0., 0., 1., 1., 0., 1., 1., 1., 1., 0., 0., 0., 0., 0., 0., 0., 0.,\n",
      "         0., 0., 0., 0., 0., 0., 0., 0., 0., 0., 0., 0., 0., 0., 0., 1., 1., 1.,\n",
      "         1., 1., 1., 0., 1., 1., 0., 0.],\n",
      "        [0., 0., 0., 0., 0., 0., 0., 0., 0., 0., 0., 0., 0., 0., 0., 0., 0., 0.,\n",
      "         0., 0., 0., 0., 0., 0., 0., 0., 0., 0., 0., 0., 0., 1., 1., 1., 0., 0.,\n",
      "         1., 1., 1., 0., 0., 1., 0., 0., 0., 1., 1., 1., 0., 0., 0., 0., 0., 0.,\n",
      "         0., 0., 0., 0., 0., 0., 0., 0., 0., 0., 0., 0., 0., 0., 0., 0., 0., 0.,\n",
      "         0., 0., 0., 0., 0., 0., 0., 1.],\n",
      "        [0., 0., 0., 0., 0., 0., 0., 0., 0., 0., 0., 0., 0., 0., 0., 0., 0., 0.,\n",
      "         0., 0., 0., 0., 0., 0., 0., 0., 0., 0., 0., 0., 0., 1., 1., 0., 1., 0.,\n",
      "         0., 1., 1., 0., 0., 0., 0., 0., 0., 0., 1., 1., 0., 0., 0., 0., 0., 0.,\n",
      "         0., 0., 0., 0., 0., 0., 0., 0., 0., 0., 0., 0., 0., 0., 0., 0., 0., 0.,\n",
      "         0., 0., 0., 0., 0., 0., 0., 1.],\n",
      "        [0., 0., 0., 0., 0., 0., 0., 0., 0., 0., 0., 0., 0., 0., 0., 0., 0., 0.,\n",
      "         0., 0., 1., 0., 1., 0., 1., 1., 0., 1., 1., 1., 1., 0., 0., 0., 0., 0.,\n",
      "         0., 0., 0., 1., 1., 0., 1., 1., 1., 1., 0., 0., 0., 0., 0., 0., 0., 0.,\n",
      "         0., 0., 0., 0., 0., 0., 0., 0., 0., 0., 0., 0., 0., 0., 1., 0., 0., 0.,\n",
      "         0., 0., 1., 0., 1., 0., 0., 1.],\n",
      "        [0., 0., 0., 0., 0., 0., 0., 0., 0., 0., 0., 0., 0., 0., 0., 0., 0., 0.,\n",
      "         0., 0., 0., 0., 0., 0., 0., 0., 0., 0., 0., 0., 0., 1., 0., 0., 0., 0.,\n",
      "         0., 0., 0., 0., 0., 1., 0., 1., 0., 0., 0., 0., 0., 0., 0., 0., 0., 0.,\n",
      "         0., 0., 0., 0., 0., 0., 0., 0., 0., 0., 0., 0., 0., 0., 0., 0., 0., 0.,\n",
      "         0., 0., 0., 0., 0., 0., 0., 1.],\n",
      "        [0., 0., 0., 0., 0., 0., 0., 0., 0., 0., 0., 0., 0., 0., 0., 0., 0., 0.,\n",
      "         0., 0., 0., 0., 0., 0., 0., 0., 0., 0., 1., 0., 0., 0., 0., 0., 0., 0.,\n",
      "         0., 0., 0., 0., 0., 1., 0., 1., 0., 0., 0., 0., 0., 0., 0., 0., 0., 0.,\n",
      "         0., 0., 0., 0., 0., 0., 0., 0., 0., 0., 0., 0., 0., 0., 0., 0., 0., 0.,\n",
      "         0., 0., 0., 0., 0., 1., 1., 0.],\n",
      "        [0., 0., 0., 0., 0., 0., 0., 0., 0., 0., 0., 0., 0., 0., 0., 0., 0., 0.,\n",
      "         0., 0., 0., 0., 0., 0., 0., 0., 0., 0., 0., 0., 0., 1., 1., 1., 1., 1.,\n",
      "         0., 0., 0., 0., 0., 1., 0., 0., 0., 0., 0., 0., 0., 0., 0., 0., 0., 0.,\n",
      "         0., 0., 0., 0., 0., 0., 0., 0., 0., 0., 0., 0., 0., 0., 0., 0., 0., 0.,\n",
      "         0., 0., 0., 0., 0., 0., 0., 1.]]), tensor([0., 0., 1., 1., 0., 0., 1., 1., 1., 0.], dtype=torch.float64)]\n"
     ]
    }
   ],
   "source": [
    "for dataNN in trainsetNN:\n",
    "    print(dataNN)\n",
    "    break"
   ]
  },
  {
   "cell_type": "code",
   "execution_count": 30,
   "id": "c1abffbc",
   "metadata": {
    "pycharm": {
     "name": "#%%\n"
    }
   },
   "outputs": [],
   "source": [
    "XNN, yNN = dataNN"
   ]
  },
  {
   "cell_type": "code",
   "execution_count": 31,
   "id": "cf160f04",
   "metadata": {},
   "outputs": [
    {
     "name": "stdout",
     "output_type": "stream",
     "text": [
      "torch.Size([10])\n"
     ]
    }
   ],
   "source": [
    "print(yNN.size())"
   ]
  },
  {
   "cell_type": "code",
   "execution_count": 32,
   "id": "c6e771b4-8736-43ce-b01b-09713e72a12b",
   "metadata": {},
   "outputs": [
    {
     "name": "stdout",
     "output_type": "stream",
     "text": [
      "{0: 1589986, 1: 979200}\n",
      "0: 61.886761020805814%\n",
      "1: 38.113238979194186%\n"
     ]
    }
   ],
   "source": [
    "# Check balance data\n",
    "\n",
    "total = 0\n",
    "counter_dict = {0:0, 1:0}\n",
    "\n",
    "\n",
    "for data in trainsetNN:\n",
    "    Xs, ys = data\n",
    "    for y in ys:\n",
    "        counter_dict[int(y)] += 1\n",
    "        total += 1\n",
    "\n",
    "print(counter_dict)\n",
    "\n",
    "for i in counter_dict:\n",
    "    print(f\"{i}: {counter_dict[i]/total*100.0}%\")"
   ]
  },
  {
   "attachments": {},
   "cell_type": "markdown",
   "id": "cfc8909a",
   "metadata": {
    "pycharm": {
     "name": "#%% md\n"
    }
   },
   "source": [
    "## Binary Data"
   ]
  },
  {
   "cell_type": "code",
   "execution_count": 33,
   "id": "46f2032a",
   "metadata": {
    "pycharm": {
     "name": "#%%\n"
    }
   },
   "outputs": [],
   "source": [
    "# Convert values \n",
    "def Conv_bin(string):\n",
    "    vector=[]\n",
    "    for i in string:\n",
    "        vector.append(i)\n",
    "        \n",
    "    for k in range(len(vector)):\n",
    "        if vector[k]=='1':vector[k]=int('-1')\n",
    "        elif vector[k]=='0':vector[k]=int('+1')\n",
    "            \n",
    "    return vector\n",
    "\n",
    "def Conv_ybin(label):\n",
    "    if label == 0: \n",
    "        label= +1\n",
    "    elif label ==1:\n",
    "        label=-1\n",
    "    return label"
   ]
  },
  {
   "cell_type": "code",
   "execution_count": 34,
   "id": "f3f287fb",
   "metadata": {
    "pycharm": {
     "name": "#%%\n"
    }
   },
   "outputs": [],
   "source": [
    "df_Xneg=df_Xbin.copy()\n",
    "df_Yneg=df_Ybin.copy()"
   ]
  },
  {
   "cell_type": "code",
   "execution_count": 35,
   "id": "ab5f1b53",
   "metadata": {
    "pycharm": {
     "name": "#%%\n"
    }
   },
   "outputs": [],
   "source": [
    "df_Xneg.loc[:,' Destination Port'] = df_Xneg[' Destination Port'].apply(lambda x:Conv_bin(x))\n",
    "df_Xneg.loc[:,' Total Backward Packets'] = df_Xneg[' Total Backward Packets'].apply(lambda x:Conv_bin(x))\n",
    "df_Xneg.loc[:,' Total Fwd Packets'] = df_Xneg[' Total Fwd Packets'].apply(lambda x:Conv_bin(x))"
   ]
  },
  {
   "cell_type": "code",
   "execution_count": 36,
   "id": "15292d5e",
   "metadata": {
    "pycharm": {
     "name": "#%%\n"
    }
   },
   "outputs": [],
   "source": [
    "df_Yneg=df_Yneg.apply(lambda y:Conv_ybin(y))"
   ]
  },
  {
   "cell_type": "code",
   "execution_count": 37,
   "id": "66369800",
   "metadata": {
    "pycharm": {
     "name": "#%%\n"
    }
   },
   "outputs": [
    {
     "data": {
      "text/html": [
       "<div>\n",
       "<style scoped>\n",
       "    .dataframe tbody tr th:only-of-type {\n",
       "        vertical-align: middle;\n",
       "    }\n",
       "\n",
       "    .dataframe tbody tr th {\n",
       "        vertical-align: top;\n",
       "    }\n",
       "\n",
       "    .dataframe thead th {\n",
       "        text-align: right;\n",
       "    }\n",
       "</style>\n",
       "<table border=\"1\" class=\"dataframe\">\n",
       "  <thead>\n",
       "    <tr style=\"text-align: right;\">\n",
       "      <th></th>\n",
       "      <th>Total Fwd Packets</th>\n",
       "      <th>Destination Port</th>\n",
       "      <th>Total Backward Packets</th>\n",
       "    </tr>\n",
       "  </thead>\n",
       "  <tbody>\n",
       "    <tr>\n",
       "      <th>0</th>\n",
       "      <td>[1, 1, 1, 1, 1, 1, 1, 1, 1, 1, 1, 1, 1, 1, 1, ...</td>\n",
       "      <td>[1, 1, 1, -1, -1, -1, -1, -1, -1, 1, 1, -1, 1,...</td>\n",
       "      <td>[1, 1, 1, 1, 1, 1, 1, 1, 1, 1, 1, 1, 1, 1, 1, ...</td>\n",
       "    </tr>\n",
       "    <tr>\n",
       "      <th>1</th>\n",
       "      <td>[1, 1, 1, 1, 1, 1, 1, 1, 1, 1, 1, 1, 1, 1, 1, ...</td>\n",
       "      <td>[1, 1, 1, -1, -1, -1, -1, -1, -1, 1, 1, -1, 1,...</td>\n",
       "      <td>[1, 1, 1, 1, 1, 1, 1, 1, 1, 1, 1, 1, 1, 1, 1, ...</td>\n",
       "    </tr>\n",
       "    <tr>\n",
       "      <th>2</th>\n",
       "      <td>[1, 1, 1, 1, 1, 1, 1, 1, 1, 1, 1, 1, 1, 1, 1, ...</td>\n",
       "      <td>[1, 1, 1, -1, -1, -1, -1, -1, -1, 1, 1, -1, 1,...</td>\n",
       "      <td>[1, 1, 1, 1, 1, 1, 1, 1, 1, 1, 1, 1, 1, 1, 1, ...</td>\n",
       "    </tr>\n",
       "    <tr>\n",
       "      <th>3</th>\n",
       "      <td>[1, 1, 1, 1, 1, 1, 1, 1, 1, 1, 1, 1, 1, 1, 1, ...</td>\n",
       "      <td>[1, 1, 1, 1, 1, -1, -1, -1, 1, 1, -1, -1, 1, 1...</td>\n",
       "      <td>[1, 1, 1, 1, 1, 1, 1, 1, 1, 1, 1, 1, 1, 1, 1, ...</td>\n",
       "    </tr>\n",
       "    <tr>\n",
       "      <th>4</th>\n",
       "      <td>[1, 1, 1, 1, 1, 1, 1, 1, 1, 1, 1, 1, 1, 1, 1, ...</td>\n",
       "      <td>[1, 1, 1, -1, -1, -1, -1, -1, -1, 1, 1, -1, 1,...</td>\n",
       "      <td>[1, 1, 1, 1, 1, 1, 1, 1, 1, 1, 1, 1, 1, 1, 1, ...</td>\n",
       "    </tr>\n",
       "  </tbody>\n",
       "</table>\n",
       "</div>"
      ],
      "text/plain": [
       "                                   Total Fwd Packets  \\\n",
       "0  [1, 1, 1, 1, 1, 1, 1, 1, 1, 1, 1, 1, 1, 1, 1, ...   \n",
       "1  [1, 1, 1, 1, 1, 1, 1, 1, 1, 1, 1, 1, 1, 1, 1, ...   \n",
       "2  [1, 1, 1, 1, 1, 1, 1, 1, 1, 1, 1, 1, 1, 1, 1, ...   \n",
       "3  [1, 1, 1, 1, 1, 1, 1, 1, 1, 1, 1, 1, 1, 1, 1, ...   \n",
       "4  [1, 1, 1, 1, 1, 1, 1, 1, 1, 1, 1, 1, 1, 1, 1, ...   \n",
       "\n",
       "                                    Destination Port  \\\n",
       "0  [1, 1, 1, -1, -1, -1, -1, -1, -1, 1, 1, -1, 1,...   \n",
       "1  [1, 1, 1, -1, -1, -1, -1, -1, -1, 1, 1, -1, 1,...   \n",
       "2  [1, 1, 1, -1, -1, -1, -1, -1, -1, 1, 1, -1, 1,...   \n",
       "3  [1, 1, 1, 1, 1, -1, -1, -1, 1, 1, -1, -1, 1, 1...   \n",
       "4  [1, 1, 1, -1, -1, -1, -1, -1, -1, 1, 1, -1, 1,...   \n",
       "\n",
       "                              Total Backward Packets  \n",
       "0  [1, 1, 1, 1, 1, 1, 1, 1, 1, 1, 1, 1, 1, 1, 1, ...  \n",
       "1  [1, 1, 1, 1, 1, 1, 1, 1, 1, 1, 1, 1, 1, 1, 1, ...  \n",
       "2  [1, 1, 1, 1, 1, 1, 1, 1, 1, 1, 1, 1, 1, 1, 1, ...  \n",
       "3  [1, 1, 1, 1, 1, 1, 1, 1, 1, 1, 1, 1, 1, 1, 1, ...  \n",
       "4  [1, 1, 1, 1, 1, 1, 1, 1, 1, 1, 1, 1, 1, 1, 1, ...  "
      ]
     },
     "execution_count": 37,
     "metadata": {},
     "output_type": "execute_result"
    }
   ],
   "source": [
    "df_Xneg.head()"
   ]
  },
  {
   "cell_type": "code",
   "execution_count": 38,
   "id": "1e60e3a2",
   "metadata": {
    "pycharm": {
     "name": "#%%\n"
    }
   },
   "outputs": [],
   "source": [
    "df_Xneg['final_vec'] = df_Xneg[' Total Fwd Packets']+df_Xneg[' Destination Port']+df_Xneg[' Total Backward Packets']"
   ]
  },
  {
   "cell_type": "code",
   "execution_count": 39,
   "id": "f5c2ea13",
   "metadata": {},
   "outputs": [
    {
     "data": {
      "text/plain": [
       "0    [1, 1, 1, 1, 1, 1, 1, 1, 1, 1, 1, 1, 1, 1, 1, ...\n",
       "1    [1, 1, 1, 1, 1, 1, 1, 1, 1, 1, 1, 1, 1, 1, 1, ...\n",
       "2    [1, 1, 1, 1, 1, 1, 1, 1, 1, 1, 1, 1, 1, 1, 1, ...\n",
       "3    [1, 1, 1, 1, 1, 1, 1, 1, 1, 1, 1, 1, 1, 1, 1, ...\n",
       "4    [1, 1, 1, 1, 1, 1, 1, 1, 1, 1, 1, 1, 1, 1, 1, ...\n",
       "Name: final_vec, dtype: object"
      ]
     },
     "execution_count": 39,
     "metadata": {},
     "output_type": "execute_result"
    }
   ],
   "source": [
    "df_Xneg['final_vec'].head()"
   ]
  },
  {
   "cell_type": "code",
   "execution_count": 40,
   "id": "37416352",
   "metadata": {},
   "outputs": [],
   "source": [
    "#Uncomment to save csv binary data \n",
    "#df_Xneg['final_vec'].to_csv('Datos_Trans1-1.csv', sep=',')\n",
    "#df_Yneg.to_csv('labels1-1.csv')"
   ]
  },
  {
   "cell_type": "code",
   "execution_count": 41,
   "id": "02c295f9",
   "metadata": {
    "pycharm": {
     "name": "#%%\n"
    }
   },
   "outputs": [],
   "source": [
    "# Train, test data\n",
    "\n",
    "x_train, x_val, y_train, y_val = train_test_split(df_Xneg['final_vec'], df_Yneg,random_state = 3, train_size=0.7)# entrenamiento, validación\n",
    "x_val, x_test, y_val, y_test = train_test_split(x_val, y_val, test_size=0.5, random_state=42)# validacion y test"
   ]
  },
  {
   "cell_type": "code",
   "execution_count": 42,
   "id": "058cf845",
   "metadata": {
    "pycharm": {
     "name": "#%%\n"
    }
   },
   "outputs": [],
   "source": [
    "target_train= torch.from_numpy(np.array(y_train))\n",
    "target_val= torch.from_numpy(np.array(y_val))\n",
    "target_test= torch.from_numpy(np.array(y_test))\n",
    "\n",
    "features_train=torch.Tensor(list(x_train))\n",
    "features_val=torch.Tensor(list(x_val))\n",
    "features_test= torch.Tensor(list(x_test))"
   ]
  },
  {
   "cell_type": "code",
   "execution_count": 43,
   "id": "9b922497",
   "metadata": {},
   "outputs": [
    {
     "data": {
      "text/plain": [
       "\"\\nnp.savetxt('target_train_Bin.txt', target_train_Bin, fmt='%d')\\nnp.savetxt('target_val_Bin.txt', target_val_Bin, fmt='%d')\\nnp.savetxt('target_test_Bin.txt', target_test_Bin, fmt='%d')\\nnp.savetxt('features_train_Bin.txt', features_train_Bin, fmt='%d')\\nnp.savetxt('features_val_Bin.txt', features_val_Bin, fmt='%d')\\nnp.savetxt('features_test_Bin.txt', features_test_Bin, fmt='%d')\""
      ]
     },
     "execution_count": 43,
     "metadata": {},
     "output_type": "execute_result"
    }
   ],
   "source": [
    "# Uncomment to save txt data\n",
    "target_train_Bin= np.array(target_train)\n",
    "target_val_Bin= np.array(target_val)\n",
    "target_test_Bin = np.array(target_test)\n",
    "features_train_Bin = np.array(features_train)\n",
    "features_val_Bin = np.array(features_val)\n",
    "features_test_Bin = np.array(features_test)\n",
    "'''\n",
    "np.savetxt('target_train_Bin.txt', target_train_Bin, fmt='%d')\n",
    "np.savetxt('target_val_Bin.txt', target_val_Bin, fmt='%d')\n",
    "np.savetxt('target_test_Bin.txt', target_test_Bin, fmt='%d')\n",
    "np.savetxt('features_train_Bin.txt', features_train_Bin, fmt='%d')\n",
    "np.savetxt('features_val_Bin.txt', features_val_Bin, fmt='%d')\n",
    "np.savetxt('features_test_Bin.txt', features_test_Bin, fmt='%d')'''\n"
   ]
  },
  {
   "cell_type": "code",
   "execution_count": 44,
   "id": "a2ab08fd",
   "metadata": {},
   "outputs": [
    {
     "data": {
      "text/plain": [
       "\"a0 =torch.from_numpy(np.loadtxt('target_train_Bin.txt', dtype=int)) \\na1 =torch.from_numpy(np.loadtxt('target_test_Bin.txt', dtype=int)) \\na2 =torch.torch.Tensor(np.loadtxt('features_train_Bin.txt', dtype=int))\\na3 =torch.torch.Tensor(np.loadtxt('features_test_Bin.txt', dtype=int)) \""
      ]
     },
     "execution_count": 44,
     "metadata": {},
     "output_type": "execute_result"
    }
   ],
   "source": [
    "# Uncomment to load tensors arrays\n",
    "'''a0 =torch.from_numpy(np.loadtxt('target_train_Bin.txt', dtype=int)) \n",
    "a1 =torch.from_numpy(np.loadtxt('target_test_Bin.txt', dtype=int)) \n",
    "a2 =torch.torch.Tensor(np.loadtxt('features_train_Bin.txt', dtype=int))\n",
    "a3 =torch.torch.Tensor(np.loadtxt('features_test_Bin.txt', dtype=int)) '''"
   ]
  }
 ],
 "metadata": {
  "kernelspec": {
   "display_name": "Python 3.10.7 64-bit",
   "language": "python",
   "name": "python3"
  },
  "language_info": {
   "codemirror_mode": {
    "name": "ipython",
    "version": 3
   },
   "file_extension": ".py",
   "mimetype": "text/x-python",
   "name": "python",
   "nbconvert_exporter": "python",
   "pygments_lexer": "ipython3",
   "version": "3.10.7"
  },
  "toc": {
   "base_numbering": 1,
   "nav_menu": {},
   "number_sections": true,
   "sideBar": true,
   "skip_h1_title": false,
   "title_cell": "Table of Contents",
   "title_sidebar": "Contents",
   "toc_cell": false,
   "toc_position": {},
   "toc_section_display": true,
   "toc_window_display": false
  },
  "vscode": {
   "interpreter": {
    "hash": "b827ebc50cbdd643ae8cb3565317db0b2256a48f0496347d50c0f0a417c4b7ad"
   }
  }
 },
 "nbformat": 4,
 "nbformat_minor": 5
}
