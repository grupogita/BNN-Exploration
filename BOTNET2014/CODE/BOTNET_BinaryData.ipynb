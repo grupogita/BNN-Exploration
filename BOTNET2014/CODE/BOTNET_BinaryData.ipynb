{
 "cells": [
  {
   "cell_type": "code",
   "execution_count": null,
   "id": "3ce96223",
   "metadata": {},
   "outputs": [],
   "source": [
    "#################################################################################\n",
    "# Author: Paulina Arregocés Guerra\n",
    "# Research groups \n",
    "# GITA (Applied Telecommunications Research Group)  - Universidad de Antioquia \n",
    "# GIDIA (Artificial Intelligence Research Group) - Universidad Nacional de Colombia\n",
    "#\n",
    "# Last modified on 08/06/2023 \n",
    "# Desciotion: This code is used to label the dataset and to train and test the decision # tree and support vector machine models with real data. \n",
    "#################################################################################"
   ]
  },
  {
   "cell_type": "code",
   "execution_count": null,
   "id": "a8cbc936",
   "metadata": {},
   "outputs": [],
   "source": [
    "# Select your preferences and run the install command...https://pytorch.org/\n",
    "#!pip3 install torch torchvision torchaudio --extra-index-url https://download.pytorch.org/whl/cpu\n",
    "\n",
    "# Uncomment for requirement libraries versions\n",
    "#!pip install -r requirements.txt "
   ]
  },
  {
   "cell_type": "code",
   "execution_count": 1,
   "id": "e0a70599",
   "metadata": {
    "pycharm": {
     "is_executing": true,
     "name": "#%%\n"
    }
   },
   "outputs": [],
   "source": [
    "import pandas as pd\n",
    "import torch\n",
    "import torchvision\n",
    "from sklearn.model_selection import train_test_split\n",
    "import numpy as np \n",
    "import torch.optim as optim\n",
    "import torch.nn as nn  # The torch.nn import gives us access to some helpful neural network things\n",
    "import torch.nn.functional as F # \n",
    "import matplotlib.pyplot as plt\n",
    "import ipaddress\n"
   ]
  },
  {
   "cell_type": "code",
   "execution_count": 3,
   "id": "67b3d99c",
   "metadata": {
    "pycharm": {
     "name": "#%%\n"
    }
   },
   "outputs": [
    {
     "name": "stderr",
     "output_type": "stream",
     "text": [
      "C:\\Users\\Informatica\\AppData\\Local\\Temp\\ipykernel_18340\\3267101060.py:4: FutureWarning: Passing a set as an indexer is deprecated and will raise in a future version. Use a list instead.\n",
      "  df_X=df_copy[{'Src IP', 'Src Port', 'Dst IP', 'Dst Port', 'Protocol'}]\n"
     ]
    }
   ],
   "source": [
    "#Upload Data\n",
    "df_copy=pd.read_csv('.\\CSV_TXT\\Labeled_Data.csv')\n",
    "#Divide into sets of training and testing \n",
    "df_X=df_copy[{'Src IP', 'Src Port', 'Dst IP', 'Dst Port', 'Protocol'}]\n",
    "df_Y=df_copy['Label']"
   ]
  },
  {
   "cell_type": "code",
   "execution_count": 4,
   "id": "d378dce6",
   "metadata": {
    "pycharm": {
     "name": "#%%\n"
    }
   },
   "outputs": [
    {
     "data": {
      "text/html": [
       "<div>\n",
       "<style scoped>\n",
       "    .dataframe tbody tr th:only-of-type {\n",
       "        vertical-align: middle;\n",
       "    }\n",
       "\n",
       "    .dataframe tbody tr th {\n",
       "        vertical-align: top;\n",
       "    }\n",
       "\n",
       "    .dataframe thead th {\n",
       "        text-align: right;\n",
       "    }\n",
       "</style>\n",
       "<table border=\"1\" class=\"dataframe\">\n",
       "  <thead>\n",
       "    <tr style=\"text-align: right;\">\n",
       "      <th></th>\n",
       "      <th>Dst IP</th>\n",
       "      <th>Src IP</th>\n",
       "      <th>Src Port</th>\n",
       "      <th>Dst Port</th>\n",
       "      <th>Protocol</th>\n",
       "    </tr>\n",
       "  </thead>\n",
       "  <tbody>\n",
       "    <tr>\n",
       "      <th>677593</th>\n",
       "      <td>10.0.0.254</td>\n",
       "      <td>172.16.2.11</td>\n",
       "      <td>12895</td>\n",
       "      <td>53</td>\n",
       "      <td>17</td>\n",
       "    </tr>\n",
       "    <tr>\n",
       "      <th>677594</th>\n",
       "      <td>147.32.80.9</td>\n",
       "      <td>147.32.84.160</td>\n",
       "      <td>2180</td>\n",
       "      <td>53</td>\n",
       "      <td>17</td>\n",
       "    </tr>\n",
       "    <tr>\n",
       "      <th>677595</th>\n",
       "      <td>212.95.7.75</td>\n",
       "      <td>172.16.0.11</td>\n",
       "      <td>10780</td>\n",
       "      <td>53</td>\n",
       "      <td>17</td>\n",
       "    </tr>\n",
       "    <tr>\n",
       "      <th>677596</th>\n",
       "      <td>212.95.7.75</td>\n",
       "      <td>172.16.0.11</td>\n",
       "      <td>1138</td>\n",
       "      <td>53</td>\n",
       "      <td>17</td>\n",
       "    </tr>\n",
       "    <tr>\n",
       "      <th>677597</th>\n",
       "      <td>212.95.7.75</td>\n",
       "      <td>172.16.0.11</td>\n",
       "      <td>2563</td>\n",
       "      <td>53</td>\n",
       "      <td>17</td>\n",
       "    </tr>\n",
       "  </tbody>\n",
       "</table>\n",
       "</div>"
      ],
      "text/plain": [
       "             Dst IP         Src IP  Src Port  Dst Port  Protocol\n",
       "677593   10.0.0.254    172.16.2.11     12895        53        17\n",
       "677594  147.32.80.9  147.32.84.160      2180        53        17\n",
       "677595  212.95.7.75    172.16.0.11     10780        53        17\n",
       "677596  212.95.7.75    172.16.0.11      1138        53        17\n",
       "677597  212.95.7.75    172.16.0.11      2563        53        17"
      ]
     },
     "execution_count": 4,
     "metadata": {},
     "output_type": "execute_result"
    }
   ],
   "source": [
    "df_X.tail()"
   ]
  },
  {
   "cell_type": "code",
   "execution_count": 5,
   "id": "72e32995-0f72-4195-ad45-e815f7627793",
   "metadata": {},
   "outputs": [
    {
     "data": {
      "text/plain": [
       "0         0\n",
       "1         1\n",
       "2         1\n",
       "3         1\n",
       "4         1\n",
       "         ..\n",
       "677593    0\n",
       "677594    1\n",
       "677595    0\n",
       "677596    0\n",
       "677597    0\n",
       "Name: Label, Length: 677598, dtype: int64"
      ]
     },
     "execution_count": 5,
     "metadata": {},
     "output_type": "execute_result"
    }
   ],
   "source": [
    "df_Y"
   ]
  },
  {
   "cell_type": "code",
   "execution_count": 6,
   "id": "25eccc01",
   "metadata": {
    "pycharm": {
     "name": "#%%\n"
    }
   },
   "outputs": [],
   "source": [
    "df_Xbin=df_X.copy()\n",
    "df_Ybin=df_Y"
   ]
  },
  {
   "cell_type": "code",
   "execution_count": 7,
   "id": "dc6788c9",
   "metadata": {
    "pycharm": {
     "name": "#%%\n"
    }
   },
   "outputs": [],
   "source": [
    "# We create some functions to convert real data to binary data\n",
    "\n",
    "fix_ip=32\n",
    "fix_port=16\n",
    "fix_proto=8\n",
    "fix_len=16\n",
    "complete= 0\n",
    "\n",
    "def ip_binary(x):\n",
    "    binary_num=bin(int(ipaddress.IPv4Address(x)))\n",
    "    len_binary=len(binary_num)\n",
    "    if len_binary== 34:\n",
    "        return binary_num[2:] \n",
    "    else:\n",
    "        complete=fix_ip-(len_binary-2)\n",
    "        cero='0'\n",
    "        cero_complete=cero*complete \n",
    "        new_binary = binary_num.replace(\"0b\", cero_complete)\n",
    "        return new_binary\n",
    "\n",
    "def port_binary(x):\n",
    "    binary_num=bin(int(x))\n",
    "    len_binary=len(binary_num)\n",
    "    if len_binary== 18:\n",
    "        return binary_num[2:] \n",
    "    else:\n",
    "        complete=fix_port-(len_binary-2)\n",
    "        cero='0'\n",
    "        cero_complete=cero*complete \n",
    "        new_binary = binary_num.replace(\"0b\", cero_complete)\n",
    "        return new_binary\n",
    "\n",
    "def proto_binary(x):\n",
    "    binary_num=bin(int(x))\n",
    "    len_binary=len(binary_num)\n",
    "    if len_binary== 10:\n",
    "        return binary_num[2:] \n",
    "    else:\n",
    "        complete=fix_proto-(len_binary-2)\n",
    "        cero='0'\n",
    "        cero_complete=cero*complete \n",
    "        new_binary = binary_num.replace(\"0b\", cero_complete)\n",
    "        return new_binary"
   ]
  },
  {
   "cell_type": "code",
   "execution_count": 8,
   "id": "786e9c4c",
   "metadata": {
    "pycharm": {
     "name": "#%%\n"
    }
   },
   "outputs": [],
   "source": [
    "# Tranform real values to binary values\n",
    "\n",
    "df_Xbin.loc[:,'Src IP'] = df_Xbin.loc[:,'Src IP'].apply(lambda x:ip_binary(x))\n",
    "df_Xbin.loc[:,'Dst IP'] = df_Xbin.loc[:,'Dst IP'].apply(lambda x:ip_binary(x))\n",
    "df_Xbin.loc[:,'Dst Port'] = df_Xbin.loc[:,'Dst Port'].apply(lambda x:port_binary(x))\n",
    "df_Xbin.loc[:,'Src Port'] = df_Xbin.loc[:,'Src Port'].apply(lambda x:port_binary(x))\n",
    "df_Xbin.loc[:,'Protocol'] = df_Xbin.loc[:,'Protocol'].apply(lambda x:proto_binary(x))"
   ]
  },
  {
   "cell_type": "code",
   "execution_count": 9,
   "id": "bf7439b0",
   "metadata": {
    "pycharm": {
     "name": "#%%\n"
    }
   },
   "outputs": [
    {
     "data": {
      "text/html": [
       "<div>\n",
       "<style scoped>\n",
       "    .dataframe tbody tr th:only-of-type {\n",
       "        vertical-align: middle;\n",
       "    }\n",
       "\n",
       "    .dataframe tbody tr th {\n",
       "        vertical-align: top;\n",
       "    }\n",
       "\n",
       "    .dataframe thead th {\n",
       "        text-align: right;\n",
       "    }\n",
       "</style>\n",
       "<table border=\"1\" class=\"dataframe\">\n",
       "  <thead>\n",
       "    <tr style=\"text-align: right;\">\n",
       "      <th></th>\n",
       "      <th>Dst IP</th>\n",
       "      <th>Src IP</th>\n",
       "      <th>Src Port</th>\n",
       "      <th>Dst Port</th>\n",
       "      <th>Protocol</th>\n",
       "    </tr>\n",
       "  </thead>\n",
       "  <tbody>\n",
       "    <tr>\n",
       "      <th>677578</th>\n",
       "      <td>10101110100011110101001001000000</td>\n",
       "      <td>10010011001000000101010010100000</td>\n",
       "      <td>0000011000110000</td>\n",
       "      <td>0000000000011001</td>\n",
       "      <td>00000110</td>\n",
       "    </tr>\n",
       "    <tr>\n",
       "      <th>677579</th>\n",
       "      <td>00001010000000000000000011111110</td>\n",
       "      <td>10101100000100000000001000001011</td>\n",
       "      <td>0101011110000101</td>\n",
       "      <td>0000000000110101</td>\n",
       "      <td>00010001</td>\n",
       "    </tr>\n",
       "    <tr>\n",
       "      <th>677580</th>\n",
       "      <td>11010001101111110101100011111110</td>\n",
       "      <td>10010011001000000101010010110100</td>\n",
       "      <td>0000110110010001</td>\n",
       "      <td>0000000000011001</td>\n",
       "      <td>00000110</td>\n",
       "    </tr>\n",
       "    <tr>\n",
       "      <th>677581</th>\n",
       "      <td>11000110101001000001111000000010</td>\n",
       "      <td>11000000101010000000010101111010</td>\n",
       "      <td>0110110000110000</td>\n",
       "      <td>0000000000110101</td>\n",
       "      <td>00010001</td>\n",
       "    </tr>\n",
       "    <tr>\n",
       "      <th>677582</th>\n",
       "      <td>01010010011000100101011010110111</td>\n",
       "      <td>11000000101010000000001001101101</td>\n",
       "      <td>0000100100100100</td>\n",
       "      <td>0000000001010000</td>\n",
       "      <td>00000110</td>\n",
       "    </tr>\n",
       "    <tr>\n",
       "      <th>677583</th>\n",
       "      <td>11000111001110111001010000001010</td>\n",
       "      <td>10011110010000010110111000011000</td>\n",
       "      <td>1110011100011110</td>\n",
       "      <td>0000000001010000</td>\n",
       "      <td>00000110</td>\n",
       "    </tr>\n",
       "    <tr>\n",
       "      <th>677584</th>\n",
       "      <td>01001000000101000000111100111101</td>\n",
       "      <td>10010011001000000101010010110100</td>\n",
       "      <td>0000110011001000</td>\n",
       "      <td>0000000001010000</td>\n",
       "      <td>00000110</td>\n",
       "    </tr>\n",
       "    <tr>\n",
       "      <th>677585</th>\n",
       "      <td>10011110010000010110111000011000</td>\n",
       "      <td>01000010111110010100100100111000</td>\n",
       "      <td>1111010111100010</td>\n",
       "      <td>0000000001010000</td>\n",
       "      <td>00000110</td>\n",
       "    </tr>\n",
       "    <tr>\n",
       "      <th>677586</th>\n",
       "      <td>10011110010000010000110001100111</td>\n",
       "      <td>10011110010000010110111000011000</td>\n",
       "      <td>1000100110111000</td>\n",
       "      <td>0000000000110101</td>\n",
       "      <td>00010001</td>\n",
       "    </tr>\n",
       "    <tr>\n",
       "      <th>677587</th>\n",
       "      <td>01010011001000111111101011011101</td>\n",
       "      <td>10101100000100000000001000001100</td>\n",
       "      <td>0111011001101111</td>\n",
       "      <td>1111111101000011</td>\n",
       "      <td>00010001</td>\n",
       "    </tr>\n",
       "    <tr>\n",
       "      <th>677588</th>\n",
       "      <td>01000000001010011001011110001100</td>\n",
       "      <td>11000000101010000000001001101101</td>\n",
       "      <td>0000100100011001</td>\n",
       "      <td>0000000001010000</td>\n",
       "      <td>00000110</td>\n",
       "    </tr>\n",
       "    <tr>\n",
       "      <th>677589</th>\n",
       "      <td>11010100010111110000011101001011</td>\n",
       "      <td>10101100000100000000000000001011</td>\n",
       "      <td>0001110010000000</td>\n",
       "      <td>0000000000110101</td>\n",
       "      <td>00010001</td>\n",
       "    </tr>\n",
       "    <tr>\n",
       "      <th>677590</th>\n",
       "      <td>11000111001110111001010001010010</td>\n",
       "      <td>10011110010000010110111000011000</td>\n",
       "      <td>1100110010100010</td>\n",
       "      <td>0000000001010000</td>\n",
       "      <td>00000110</td>\n",
       "    </tr>\n",
       "    <tr>\n",
       "      <th>677591</th>\n",
       "      <td>11010100010111110000011101001011</td>\n",
       "      <td>10101100000100000000000000001011</td>\n",
       "      <td>0001101000110001</td>\n",
       "      <td>0000000000110101</td>\n",
       "      <td>00010001</td>\n",
       "    </tr>\n",
       "    <tr>\n",
       "      <th>677592</th>\n",
       "      <td>10010011001000000101000101011110</td>\n",
       "      <td>10010011001000000101010010000010</td>\n",
       "      <td>0000110000111001</td>\n",
       "      <td>0000000010000111</td>\n",
       "      <td>00000110</td>\n",
       "    </tr>\n",
       "    <tr>\n",
       "      <th>677593</th>\n",
       "      <td>00001010000000000000000011111110</td>\n",
       "      <td>10101100000100000000001000001011</td>\n",
       "      <td>0011001001011111</td>\n",
       "      <td>0000000000110101</td>\n",
       "      <td>00010001</td>\n",
       "    </tr>\n",
       "    <tr>\n",
       "      <th>677594</th>\n",
       "      <td>10010011001000000101000000001001</td>\n",
       "      <td>10010011001000000101010010100000</td>\n",
       "      <td>0000100010000100</td>\n",
       "      <td>0000000000110101</td>\n",
       "      <td>00010001</td>\n",
       "    </tr>\n",
       "    <tr>\n",
       "      <th>677595</th>\n",
       "      <td>11010100010111110000011101001011</td>\n",
       "      <td>10101100000100000000000000001011</td>\n",
       "      <td>0010101000011100</td>\n",
       "      <td>0000000000110101</td>\n",
       "      <td>00010001</td>\n",
       "    </tr>\n",
       "    <tr>\n",
       "      <th>677596</th>\n",
       "      <td>11010100010111110000011101001011</td>\n",
       "      <td>10101100000100000000000000001011</td>\n",
       "      <td>0000010001110010</td>\n",
       "      <td>0000000000110101</td>\n",
       "      <td>00010001</td>\n",
       "    </tr>\n",
       "    <tr>\n",
       "      <th>677597</th>\n",
       "      <td>11010100010111110000011101001011</td>\n",
       "      <td>10101100000100000000000000001011</td>\n",
       "      <td>0000101000000011</td>\n",
       "      <td>0000000000110101</td>\n",
       "      <td>00010001</td>\n",
       "    </tr>\n",
       "  </tbody>\n",
       "</table>\n",
       "</div>"
      ],
      "text/plain": [
       "                                  Dst IP                            Src IP  \\\n",
       "677578  10101110100011110101001001000000  10010011001000000101010010100000   \n",
       "677579  00001010000000000000000011111110  10101100000100000000001000001011   \n",
       "677580  11010001101111110101100011111110  10010011001000000101010010110100   \n",
       "677581  11000110101001000001111000000010  11000000101010000000010101111010   \n",
       "677582  01010010011000100101011010110111  11000000101010000000001001101101   \n",
       "677583  11000111001110111001010000001010  10011110010000010110111000011000   \n",
       "677584  01001000000101000000111100111101  10010011001000000101010010110100   \n",
       "677585  10011110010000010110111000011000  01000010111110010100100100111000   \n",
       "677586  10011110010000010000110001100111  10011110010000010110111000011000   \n",
       "677587  01010011001000111111101011011101  10101100000100000000001000001100   \n",
       "677588  01000000001010011001011110001100  11000000101010000000001001101101   \n",
       "677589  11010100010111110000011101001011  10101100000100000000000000001011   \n",
       "677590  11000111001110111001010001010010  10011110010000010110111000011000   \n",
       "677591  11010100010111110000011101001011  10101100000100000000000000001011   \n",
       "677592  10010011001000000101000101011110  10010011001000000101010010000010   \n",
       "677593  00001010000000000000000011111110  10101100000100000000001000001011   \n",
       "677594  10010011001000000101000000001001  10010011001000000101010010100000   \n",
       "677595  11010100010111110000011101001011  10101100000100000000000000001011   \n",
       "677596  11010100010111110000011101001011  10101100000100000000000000001011   \n",
       "677597  11010100010111110000011101001011  10101100000100000000000000001011   \n",
       "\n",
       "                Src Port          Dst Port  Protocol  \n",
       "677578  0000011000110000  0000000000011001  00000110  \n",
       "677579  0101011110000101  0000000000110101  00010001  \n",
       "677580  0000110110010001  0000000000011001  00000110  \n",
       "677581  0110110000110000  0000000000110101  00010001  \n",
       "677582  0000100100100100  0000000001010000  00000110  \n",
       "677583  1110011100011110  0000000001010000  00000110  \n",
       "677584  0000110011001000  0000000001010000  00000110  \n",
       "677585  1111010111100010  0000000001010000  00000110  \n",
       "677586  1000100110111000  0000000000110101  00010001  \n",
       "677587  0111011001101111  1111111101000011  00010001  \n",
       "677588  0000100100011001  0000000001010000  00000110  \n",
       "677589  0001110010000000  0000000000110101  00010001  \n",
       "677590  1100110010100010  0000000001010000  00000110  \n",
       "677591  0001101000110001  0000000000110101  00010001  \n",
       "677592  0000110000111001  0000000010000111  00000110  \n",
       "677593  0011001001011111  0000000000110101  00010001  \n",
       "677594  0000100010000100  0000000000110101  00010001  \n",
       "677595  0010101000011100  0000000000110101  00010001  \n",
       "677596  0000010001110010  0000000000110101  00010001  \n",
       "677597  0000101000000011  0000000000110101  00010001  "
      ]
     },
     "execution_count": 9,
     "metadata": {},
     "output_type": "execute_result"
    }
   ],
   "source": [
    "df_Xbin.tail(20)"
   ]
  },
  {
   "cell_type": "code",
   "execution_count": 10,
   "id": "5b840d75",
   "metadata": {
    "pycharm": {
     "name": "#%%\n"
    }
   },
   "outputs": [],
   "source": [
    "df_XbinNN=df_Xbin.copy()\n",
    "df_YbinNN=df_Ybin.copy()"
   ]
  },
  {
   "cell_type": "code",
   "execution_count": 11,
   "id": "38db86cf",
   "metadata": {
    "pycharm": {
     "name": "#%%\n"
    }
   },
   "outputs": [],
   "source": [
    "# We create a function to obtain every single digit by feature\n",
    "\n",
    "def Conv_bin1(string):\n",
    "    vector=[]\n",
    "    for i in string:\n",
    "        vector.append(i)\n",
    "        \n",
    "    for k in range(len(vector)):\n",
    "        if vector[k]=='1':vector[k]=float('1')\n",
    "        elif vector[k]=='0':vector[k]=float('0')\n",
    "            \n",
    "    return vector"
   ]
  },
  {
   "cell_type": "code",
   "execution_count": 12,
   "id": "9e442adf",
   "metadata": {
    "pycharm": {
     "name": "#%%\n"
    }
   },
   "outputs": [],
   "source": [
    "df_XbinNN.loc[:,'Src IP'] = df_XbinNN['Src IP'].apply(lambda x:Conv_bin1(x))\n",
    "df_XbinNN.loc[:,'Dst IP'] = df_XbinNN['Dst IP'].apply(lambda x:Conv_bin1(x))\n",
    "df_XbinNN.loc[:,'Dst Port'] = df_XbinNN['Dst Port'].apply(lambda x:Conv_bin1(x))\n",
    "df_XbinNN.loc[:,'Src Port'] = df_XbinNN['Src Port'].apply(lambda x:Conv_bin1(x))\n",
    "df_XbinNN.loc[:,'Protocol'] = df_XbinNN['Protocol'].apply(lambda x:Conv_bin1(x))"
   ]
  },
  {
   "cell_type": "code",
   "execution_count": 13,
   "id": "4afd3822",
   "metadata": {
    "pycharm": {
     "name": "#%%\n"
    }
   },
   "outputs": [
    {
     "data": {
      "text/html": [
       "<div>\n",
       "<style scoped>\n",
       "    .dataframe tbody tr th:only-of-type {\n",
       "        vertical-align: middle;\n",
       "    }\n",
       "\n",
       "    .dataframe tbody tr th {\n",
       "        vertical-align: top;\n",
       "    }\n",
       "\n",
       "    .dataframe thead th {\n",
       "        text-align: right;\n",
       "    }\n",
       "</style>\n",
       "<table border=\"1\" class=\"dataframe\">\n",
       "  <thead>\n",
       "    <tr style=\"text-align: right;\">\n",
       "      <th></th>\n",
       "      <th>Dst IP</th>\n",
       "      <th>Src IP</th>\n",
       "      <th>Src Port</th>\n",
       "      <th>Dst Port</th>\n",
       "      <th>Protocol</th>\n",
       "    </tr>\n",
       "  </thead>\n",
       "  <tbody>\n",
       "    <tr>\n",
       "      <th>0</th>\n",
       "      <td>[0.0, 0.0, 0.0, 0.0, 1.0, 0.0, 0.0, 0.0, 0.0, ...</td>\n",
       "      <td>[0.0, 0.0, 0.0, 0.0, 1.0, 0.0, 0.0, 0.0, 0.0, ...</td>\n",
       "      <td>[0.0, 0.0, 0.0, 0.0, 0.0, 0.0, 0.0, 0.0, 0.0, ...</td>\n",
       "      <td>[0.0, 0.0, 0.0, 0.0, 0.0, 0.0, 0.0, 0.0, 0.0, ...</td>\n",
       "      <td>[0.0, 0.0, 0.0, 0.0, 0.0, 0.0, 0.0, 0.0]</td>\n",
       "    </tr>\n",
       "    <tr>\n",
       "      <th>1</th>\n",
       "      <td>[0.0, 1.0, 0.0, 0.0, 1.0, 0.0, 1.0, 0.0, 0.0, ...</td>\n",
       "      <td>[1.0, 0.0, 0.0, 1.0, 0.0, 0.0, 1.0, 1.0, 0.0, ...</td>\n",
       "      <td>[0.0, 0.0, 0.0, 0.0, 0.0, 1.0, 0.0, 0.0, 0.0, ...</td>\n",
       "      <td>[0.0, 0.0, 0.0, 0.0, 0.0, 0.0, 0.0, 0.0, 0.0, ...</td>\n",
       "      <td>[0.0, 0.0, 0.0, 0.0, 0.0, 1.0, 1.0, 0.0]</td>\n",
       "    </tr>\n",
       "    <tr>\n",
       "      <th>2</th>\n",
       "      <td>[1.0, 0.0, 0.0, 1.0, 0.0, 0.0, 1.0, 1.0, 0.0, ...</td>\n",
       "      <td>[1.0, 0.0, 0.0, 1.0, 0.0, 0.0, 1.0, 1.0, 0.0, ...</td>\n",
       "      <td>[0.0, 0.0, 0.0, 0.0, 0.0, 0.0, 0.0, 0.0, 1.0, ...</td>\n",
       "      <td>[0.0, 0.0, 0.0, 0.0, 0.0, 0.0, 0.0, 0.0, 1.0, ...</td>\n",
       "      <td>[0.0, 0.0, 0.0, 1.0, 0.0, 0.0, 0.0, 1.0]</td>\n",
       "    </tr>\n",
       "    <tr>\n",
       "      <th>3</th>\n",
       "      <td>[1.0, 0.0, 0.0, 1.0, 0.0, 0.0, 1.0, 1.0, 0.0, ...</td>\n",
       "      <td>[1.0, 0.0, 0.0, 1.0, 0.0, 0.0, 1.0, 1.0, 0.0, ...</td>\n",
       "      <td>[0.0, 0.0, 0.0, 0.0, 0.0, 1.0, 0.0, 0.0, 0.0, ...</td>\n",
       "      <td>[0.0, 0.0, 0.0, 0.0, 0.0, 0.0, 0.0, 0.0, 0.0, ...</td>\n",
       "      <td>[0.0, 0.0, 0.0, 1.0, 0.0, 0.0, 0.0, 1.0]</td>\n",
       "    </tr>\n",
       "    <tr>\n",
       "      <th>4</th>\n",
       "      <td>[0.0, 1.0, 0.0, 1.0, 1.0, 1.0, 1.0, 0.0, 0.0, ...</td>\n",
       "      <td>[1.0, 0.0, 0.0, 1.0, 0.0, 0.0, 1.0, 1.0, 0.0, ...</td>\n",
       "      <td>[0.0, 0.0, 0.0, 0.0, 0.0, 1.0, 0.0, 0.0, 0.0, ...</td>\n",
       "      <td>[0.0, 0.0, 0.0, 0.0, 0.0, 0.0, 0.0, 0.0, 0.0, ...</td>\n",
       "      <td>[0.0, 0.0, 0.0, 0.0, 0.0, 1.0, 1.0, 0.0]</td>\n",
       "    </tr>\n",
       "    <tr>\n",
       "      <th>...</th>\n",
       "      <td>...</td>\n",
       "      <td>...</td>\n",
       "      <td>...</td>\n",
       "      <td>...</td>\n",
       "      <td>...</td>\n",
       "    </tr>\n",
       "    <tr>\n",
       "      <th>677593</th>\n",
       "      <td>[0.0, 0.0, 0.0, 0.0, 1.0, 0.0, 1.0, 0.0, 0.0, ...</td>\n",
       "      <td>[1.0, 0.0, 1.0, 0.0, 1.0, 1.0, 0.0, 0.0, 0.0, ...</td>\n",
       "      <td>[0.0, 0.0, 1.0, 1.0, 0.0, 0.0, 1.0, 0.0, 0.0, ...</td>\n",
       "      <td>[0.0, 0.0, 0.0, 0.0, 0.0, 0.0, 0.0, 0.0, 0.0, ...</td>\n",
       "      <td>[0.0, 0.0, 0.0, 1.0, 0.0, 0.0, 0.0, 1.0]</td>\n",
       "    </tr>\n",
       "    <tr>\n",
       "      <th>677594</th>\n",
       "      <td>[1.0, 0.0, 0.0, 1.0, 0.0, 0.0, 1.0, 1.0, 0.0, ...</td>\n",
       "      <td>[1.0, 0.0, 0.0, 1.0, 0.0, 0.0, 1.0, 1.0, 0.0, ...</td>\n",
       "      <td>[0.0, 0.0, 0.0, 0.0, 1.0, 0.0, 0.0, 0.0, 1.0, ...</td>\n",
       "      <td>[0.0, 0.0, 0.0, 0.0, 0.0, 0.0, 0.0, 0.0, 0.0, ...</td>\n",
       "      <td>[0.0, 0.0, 0.0, 1.0, 0.0, 0.0, 0.0, 1.0]</td>\n",
       "    </tr>\n",
       "    <tr>\n",
       "      <th>677595</th>\n",
       "      <td>[1.0, 1.0, 0.0, 1.0, 0.0, 1.0, 0.0, 0.0, 0.0, ...</td>\n",
       "      <td>[1.0, 0.0, 1.0, 0.0, 1.0, 1.0, 0.0, 0.0, 0.0, ...</td>\n",
       "      <td>[0.0, 0.0, 1.0, 0.0, 1.0, 0.0, 1.0, 0.0, 0.0, ...</td>\n",
       "      <td>[0.0, 0.0, 0.0, 0.0, 0.0, 0.0, 0.0, 0.0, 0.0, ...</td>\n",
       "      <td>[0.0, 0.0, 0.0, 1.0, 0.0, 0.0, 0.0, 1.0]</td>\n",
       "    </tr>\n",
       "    <tr>\n",
       "      <th>677596</th>\n",
       "      <td>[1.0, 1.0, 0.0, 1.0, 0.0, 1.0, 0.0, 0.0, 0.0, ...</td>\n",
       "      <td>[1.0, 0.0, 1.0, 0.0, 1.0, 1.0, 0.0, 0.0, 0.0, ...</td>\n",
       "      <td>[0.0, 0.0, 0.0, 0.0, 0.0, 1.0, 0.0, 0.0, 0.0, ...</td>\n",
       "      <td>[0.0, 0.0, 0.0, 0.0, 0.0, 0.0, 0.0, 0.0, 0.0, ...</td>\n",
       "      <td>[0.0, 0.0, 0.0, 1.0, 0.0, 0.0, 0.0, 1.0]</td>\n",
       "    </tr>\n",
       "    <tr>\n",
       "      <th>677597</th>\n",
       "      <td>[1.0, 1.0, 0.0, 1.0, 0.0, 1.0, 0.0, 0.0, 0.0, ...</td>\n",
       "      <td>[1.0, 0.0, 1.0, 0.0, 1.0, 1.0, 0.0, 0.0, 0.0, ...</td>\n",
       "      <td>[0.0, 0.0, 0.0, 0.0, 1.0, 0.0, 1.0, 0.0, 0.0, ...</td>\n",
       "      <td>[0.0, 0.0, 0.0, 0.0, 0.0, 0.0, 0.0, 0.0, 0.0, ...</td>\n",
       "      <td>[0.0, 0.0, 0.0, 1.0, 0.0, 0.0, 0.0, 1.0]</td>\n",
       "    </tr>\n",
       "  </tbody>\n",
       "</table>\n",
       "<p>677598 rows × 5 columns</p>\n",
       "</div>"
      ],
      "text/plain": [
       "                                                   Dst IP  \\\n",
       "0       [0.0, 0.0, 0.0, 0.0, 1.0, 0.0, 0.0, 0.0, 0.0, ...   \n",
       "1       [0.0, 1.0, 0.0, 0.0, 1.0, 0.0, 1.0, 0.0, 0.0, ...   \n",
       "2       [1.0, 0.0, 0.0, 1.0, 0.0, 0.0, 1.0, 1.0, 0.0, ...   \n",
       "3       [1.0, 0.0, 0.0, 1.0, 0.0, 0.0, 1.0, 1.0, 0.0, ...   \n",
       "4       [0.0, 1.0, 0.0, 1.0, 1.0, 1.0, 1.0, 0.0, 0.0, ...   \n",
       "...                                                   ...   \n",
       "677593  [0.0, 0.0, 0.0, 0.0, 1.0, 0.0, 1.0, 0.0, 0.0, ...   \n",
       "677594  [1.0, 0.0, 0.0, 1.0, 0.0, 0.0, 1.0, 1.0, 0.0, ...   \n",
       "677595  [1.0, 1.0, 0.0, 1.0, 0.0, 1.0, 0.0, 0.0, 0.0, ...   \n",
       "677596  [1.0, 1.0, 0.0, 1.0, 0.0, 1.0, 0.0, 0.0, 0.0, ...   \n",
       "677597  [1.0, 1.0, 0.0, 1.0, 0.0, 1.0, 0.0, 0.0, 0.0, ...   \n",
       "\n",
       "                                                   Src IP  \\\n",
       "0       [0.0, 0.0, 0.0, 0.0, 1.0, 0.0, 0.0, 0.0, 0.0, ...   \n",
       "1       [1.0, 0.0, 0.0, 1.0, 0.0, 0.0, 1.0, 1.0, 0.0, ...   \n",
       "2       [1.0, 0.0, 0.0, 1.0, 0.0, 0.0, 1.0, 1.0, 0.0, ...   \n",
       "3       [1.0, 0.0, 0.0, 1.0, 0.0, 0.0, 1.0, 1.0, 0.0, ...   \n",
       "4       [1.0, 0.0, 0.0, 1.0, 0.0, 0.0, 1.0, 1.0, 0.0, ...   \n",
       "...                                                   ...   \n",
       "677593  [1.0, 0.0, 1.0, 0.0, 1.0, 1.0, 0.0, 0.0, 0.0, ...   \n",
       "677594  [1.0, 0.0, 0.0, 1.0, 0.0, 0.0, 1.0, 1.0, 0.0, ...   \n",
       "677595  [1.0, 0.0, 1.0, 0.0, 1.0, 1.0, 0.0, 0.0, 0.0, ...   \n",
       "677596  [1.0, 0.0, 1.0, 0.0, 1.0, 1.0, 0.0, 0.0, 0.0, ...   \n",
       "677597  [1.0, 0.0, 1.0, 0.0, 1.0, 1.0, 0.0, 0.0, 0.0, ...   \n",
       "\n",
       "                                                 Src Port  \\\n",
       "0       [0.0, 0.0, 0.0, 0.0, 0.0, 0.0, 0.0, 0.0, 0.0, ...   \n",
       "1       [0.0, 0.0, 0.0, 0.0, 0.0, 1.0, 0.0, 0.0, 0.0, ...   \n",
       "2       [0.0, 0.0, 0.0, 0.0, 0.0, 0.0, 0.0, 0.0, 1.0, ...   \n",
       "3       [0.0, 0.0, 0.0, 0.0, 0.0, 1.0, 0.0, 0.0, 0.0, ...   \n",
       "4       [0.0, 0.0, 0.0, 0.0, 0.0, 1.0, 0.0, 0.0, 0.0, ...   \n",
       "...                                                   ...   \n",
       "677593  [0.0, 0.0, 1.0, 1.0, 0.0, 0.0, 1.0, 0.0, 0.0, ...   \n",
       "677594  [0.0, 0.0, 0.0, 0.0, 1.0, 0.0, 0.0, 0.0, 1.0, ...   \n",
       "677595  [0.0, 0.0, 1.0, 0.0, 1.0, 0.0, 1.0, 0.0, 0.0, ...   \n",
       "677596  [0.0, 0.0, 0.0, 0.0, 0.0, 1.0, 0.0, 0.0, 0.0, ...   \n",
       "677597  [0.0, 0.0, 0.0, 0.0, 1.0, 0.0, 1.0, 0.0, 0.0, ...   \n",
       "\n",
       "                                                 Dst Port  \\\n",
       "0       [0.0, 0.0, 0.0, 0.0, 0.0, 0.0, 0.0, 0.0, 0.0, ...   \n",
       "1       [0.0, 0.0, 0.0, 0.0, 0.0, 0.0, 0.0, 0.0, 0.0, ...   \n",
       "2       [0.0, 0.0, 0.0, 0.0, 0.0, 0.0, 0.0, 0.0, 1.0, ...   \n",
       "3       [0.0, 0.0, 0.0, 0.0, 0.0, 0.0, 0.0, 0.0, 0.0, ...   \n",
       "4       [0.0, 0.0, 0.0, 0.0, 0.0, 0.0, 0.0, 0.0, 0.0, ...   \n",
       "...                                                   ...   \n",
       "677593  [0.0, 0.0, 0.0, 0.0, 0.0, 0.0, 0.0, 0.0, 0.0, ...   \n",
       "677594  [0.0, 0.0, 0.0, 0.0, 0.0, 0.0, 0.0, 0.0, 0.0, ...   \n",
       "677595  [0.0, 0.0, 0.0, 0.0, 0.0, 0.0, 0.0, 0.0, 0.0, ...   \n",
       "677596  [0.0, 0.0, 0.0, 0.0, 0.0, 0.0, 0.0, 0.0, 0.0, ...   \n",
       "677597  [0.0, 0.0, 0.0, 0.0, 0.0, 0.0, 0.0, 0.0, 0.0, ...   \n",
       "\n",
       "                                        Protocol  \n",
       "0       [0.0, 0.0, 0.0, 0.0, 0.0, 0.0, 0.0, 0.0]  \n",
       "1       [0.0, 0.0, 0.0, 0.0, 0.0, 1.0, 1.0, 0.0]  \n",
       "2       [0.0, 0.0, 0.0, 1.0, 0.0, 0.0, 0.0, 1.0]  \n",
       "3       [0.0, 0.0, 0.0, 1.0, 0.0, 0.0, 0.0, 1.0]  \n",
       "4       [0.0, 0.0, 0.0, 0.0, 0.0, 1.0, 1.0, 0.0]  \n",
       "...                                          ...  \n",
       "677593  [0.0, 0.0, 0.0, 1.0, 0.0, 0.0, 0.0, 1.0]  \n",
       "677594  [0.0, 0.0, 0.0, 1.0, 0.0, 0.0, 0.0, 1.0]  \n",
       "677595  [0.0, 0.0, 0.0, 1.0, 0.0, 0.0, 0.0, 1.0]  \n",
       "677596  [0.0, 0.0, 0.0, 1.0, 0.0, 0.0, 0.0, 1.0]  \n",
       "677597  [0.0, 0.0, 0.0, 1.0, 0.0, 0.0, 0.0, 1.0]  \n",
       "\n",
       "[677598 rows x 5 columns]"
      ]
     },
     "execution_count": 13,
     "metadata": {},
     "output_type": "execute_result"
    }
   ],
   "source": [
    "df_XbinNN"
   ]
  },
  {
   "cell_type": "code",
   "execution_count": 14,
   "id": "c49c27c7",
   "metadata": {
    "pycharm": {
     "name": "#%%\n"
    }
   },
   "outputs": [],
   "source": [
    "# We concat every feature to create a single vector of binary data\n",
    "\n",
    "df_XbinNN['final_vec'] = df_XbinNN['Dst Port']+df_XbinNN['Src Port']+df_XbinNN['Protocol']+df_XbinNN['Dst IP']+df_XbinNN['Src IP']"
   ]
  },
  {
   "cell_type": "code",
   "execution_count": 15,
   "id": "c8ff92af",
   "metadata": {
    "pycharm": {
     "name": "#%%\n"
    }
   },
   "outputs": [
    {
     "data": {
      "text/plain": [
       "0    [0.0, 0.0, 0.0, 0.0, 0.0, 0.0, 0.0, 0.0, 0.0, ...\n",
       "1    [0.0, 0.0, 0.0, 0.0, 0.0, 0.0, 0.0, 0.0, 0.0, ...\n",
       "2    [0.0, 0.0, 0.0, 0.0, 0.0, 0.0, 0.0, 0.0, 1.0, ...\n",
       "3    [0.0, 0.0, 0.0, 0.0, 0.0, 0.0, 0.0, 0.0, 0.0, ...\n",
       "4    [0.0, 0.0, 0.0, 0.0, 0.0, 0.0, 0.0, 0.0, 0.0, ...\n",
       "Name: final_vec, dtype: object"
      ]
     },
     "execution_count": 15,
     "metadata": {},
     "output_type": "execute_result"
    }
   ],
   "source": [
    "df_XbinNN['final_vec'].head()"
   ]
  },
  {
   "cell_type": "code",
   "execution_count": 16,
   "id": "e3ea37ca",
   "metadata": {},
   "outputs": [
    {
     "data": {
      "text/plain": [
       "0         0\n",
       "1         1\n",
       "2         1\n",
       "3         1\n",
       "4         1\n",
       "         ..\n",
       "677593    0\n",
       "677594    1\n",
       "677595    0\n",
       "677596    0\n",
       "677597    0\n",
       "Name: Label, Length: 677598, dtype: int64"
      ]
     },
     "execution_count": 16,
     "metadata": {},
     "output_type": "execute_result"
    }
   ],
   "source": [
    "df_YbinNN"
   ]
  },
  {
   "cell_type": "code",
   "execution_count": 17,
   "id": "afb5a7cc-f5c1-497b-9be8-43688864a9cc",
   "metadata": {},
   "outputs": [],
   "source": [
    "# Uncomment to save tranform data\n",
    "#df_XbinNN['final_vec'].to_csv('Datos_Trans01.csv', sep=',')\n",
    "#df_YbinNN.to_csv('labels01.csv')\n",
    "\n",
    "# Uncomment to read tranform data\n",
    "#Xbin_NN=pd.read_csv('Datos_Trans01.csv')"
   ]
  },
  {
   "cell_type": "code",
   "execution_count": 18,
   "id": "1e581917",
   "metadata": {
    "pycharm": {
     "name": "#%%\n"
    }
   },
   "outputs": [],
   "source": [
    "# Divide train, validation and test  sets\n",
    "\n",
    "x_trainNN, x_valNN, y_trainNN, y_valNN = train_test_split(df_XbinNN['final_vec'], df_YbinNN, train_size=0.7,random_state = 42)\n",
    "x_valNN, x_testNN, y_valNN, y_testNN = train_test_split(x_valNN, y_valNN, test_size=0.5, random_state = 42)"
   ]
  },
  {
   "cell_type": "code",
   "execution_count": 19,
   "id": "97736f90",
   "metadata": {},
   "outputs": [
    {
     "data": {
      "text/plain": [
       "260249    [0.0, 0.0, 0.0, 0.0, 0.0, 0.0, 0.0, 0.0, 0.0, ...\n",
       "563509    [0.0, 0.0, 0.0, 0.0, 0.0, 0.0, 0.0, 0.0, 0.0, ...\n",
       "467665    [0.0, 0.0, 0.0, 0.0, 0.0, 0.0, 0.0, 0.0, 0.0, ...\n",
       "458595    [0.0, 0.0, 0.0, 0.0, 0.0, 0.0, 0.0, 0.0, 0.0, ...\n",
       "560268    [0.0, 0.0, 0.0, 0.0, 0.0, 0.0, 0.0, 0.0, 0.0, ...\n",
       "                                ...                        \n",
       "259178    [0.0, 0.0, 0.0, 0.0, 0.0, 0.0, 0.0, 0.0, 0.0, ...\n",
       "365838    [0.0, 0.0, 0.0, 0.0, 0.0, 0.0, 0.0, 1.0, 1.0, ...\n",
       "131932    [0.0, 0.0, 0.0, 0.0, 0.0, 0.0, 0.0, 1.0, 1.0, ...\n",
       "671155    [0.0, 0.0, 0.0, 0.0, 0.0, 0.0, 0.0, 0.0, 0.0, ...\n",
       "121958    [0.0, 0.0, 0.0, 0.0, 1.0, 1.0, 0.0, 0.0, 0.0, ...\n",
       "Name: final_vec, Length: 474318, dtype: object"
      ]
     },
     "execution_count": 19,
     "metadata": {},
     "output_type": "execute_result"
    }
   ],
   "source": [
    "x_trainNN"
   ]
  },
  {
   "cell_type": "code",
   "execution_count": 20,
   "id": "f4d83a26",
   "metadata": {
    "pycharm": {
     "name": "#%%\n"
    }
   },
   "outputs": [],
   "source": [
    "# Change data to torch type\n",
    "target_trainNN= torch.from_numpy(np.array(y_trainNN))\n",
    "target_valNN= torch.from_numpy(np.array(y_valNN))\n",
    "target_testNN= torch.from_numpy(np.array(y_testNN))\n",
    "\n",
    "features_trainNN=torch.Tensor(list(x_trainNN))\n",
    "features_valNN=torch.Tensor(list(x_valNN))\n",
    "features_testNN= torch.Tensor(list(x_testNN))"
   ]
  },
  {
   "cell_type": "code",
   "execution_count": 21,
   "id": "cab9231f",
   "metadata": {},
   "outputs": [
    {
     "data": {
      "text/plain": [
       "tensor([[0., 0., 0.,  ..., 1., 0., 0.],\n",
       "        [0., 0., 0.,  ..., 0., 0., 0.],\n",
       "        [0., 0., 0.,  ..., 0., 1., 0.],\n",
       "        ...,\n",
       "        [0., 0., 0.,  ..., 1., 0., 0.],\n",
       "        [0., 0., 0.,  ..., 0., 1., 0.],\n",
       "        [0., 0., 0.,  ..., 0., 0., 0.]])"
      ]
     },
     "execution_count": 21,
     "metadata": {},
     "output_type": "execute_result"
    }
   ],
   "source": [
    "features_valNN"
   ]
  },
  {
   "cell_type": "code",
   "execution_count": 28,
   "id": "6ed9eafa",
   "metadata": {},
   "outputs": [],
   "source": [
    "# Save array data\n",
    "'''\n",
    "target_train= np.array(target_trainNN)\n",
    "target_val= np.array(target_valNN)\n",
    "target_test = np.array(target_testNN)\n",
    "features_train = np.array(features_trainNN)\n",
    "features_val = np.array(features_valNN)\n",
    "features_test = np.array(features_testNN)\n",
    "\n",
    "np.savetxt('target_train.txt', target_train, fmt='%d')\n",
    "np.savetxt('target_val.txt', target_val, fmt='%d')\n",
    "np.savetxt('target_test.txt', target_test, fmt='%d')\n",
    "np.savetxt('features_train.txt', features_train, fmt='%d')\n",
    "np.savetxt('features_val.txt', features_val, fmt='%d')\n",
    "np.savetxt('features_test.txt', features_test, fmt='%d')\n",
    "'''"
   ]
  },
  {
   "cell_type": "code",
   "execution_count": 29,
   "id": "c8a964df",
   "metadata": {},
   "outputs": [
    {
     "data": {
      "text/plain": [
       "\"a0 =torch.from_numpy(np.loadtxt('target_train.txt', dtype=int)) \\na1 =torch.from_numpy(np.loadtxt('target_val.txt', dtype=int)) \\na2 =torch.from_numpy(np.loadtxt('target_test.txt', dtype=int)) \\na3 =torch.torch.Tensor(np.loadtxt('features_train.txt', dtype=int))\\na4 =torch.torch.Tensor(np.loadtxt('features_val.txt', dtype=int))\\na5 =torch.torch.Tensor(np.loadtxt('features_test.txt', dtype=int)) \""
      ]
     },
     "execution_count": 29,
     "metadata": {},
     "output_type": "execute_result"
    }
   ],
   "source": [
    "# Load tensors array data\n",
    "'''\n",
    "a0 =torch.from_numpy(np.loadtxt('target_train.txt', dtype=int)) \n",
    "a1 =torch.from_numpy(np.loadtxt('target_val.txt', dtype=int)) \n",
    "a2 =torch.from_numpy(np.loadtxt('target_test.txt', dtype=int)) \n",
    "a3 =torch.torch.Tensor(np.loadtxt('features_train.txt', dtype=int))\n",
    "a4 =torch.torch.Tensor(np.loadtxt('features_val.txt', dtype=int))\n",
    "a5 =torch.torch.Tensor(np.loadtxt('features_test.txt', dtype=int)) \n",
    "'''"
   ]
  },
  {
   "attachments": {},
   "cell_type": "markdown",
   "id": "cfc8909a",
   "metadata": {
    "pycharm": {
     "name": "#%% md\n"
    }
   },
   "source": [
    "## Convert data to -1 +1 values"
   ]
  },
  {
   "cell_type": "code",
   "execution_count": 22,
   "id": "46f2032a",
   "metadata": {
    "pycharm": {
     "name": "#%%\n"
    }
   },
   "outputs": [],
   "source": [
    "# Convertir valores\n",
    "def Conv_bin(string):\n",
    "    vector=[]\n",
    "    for i in string:\n",
    "        vector.append(i)\n",
    "        \n",
    "    for k in range(len(vector)):\n",
    "        if vector[k]=='1':vector[k]=int('-1')\n",
    "        elif vector[k]=='0':vector[k]=int('+1')\n",
    "            \n",
    "    return vector\n",
    "\n",
    "def Conv_ybin(label):\n",
    "    if label == 0: \n",
    "        label= +1\n",
    "    elif label ==1:\n",
    "        label=-1\n",
    "    return label"
   ]
  },
  {
   "cell_type": "code",
   "execution_count": 23,
   "id": "f3f287fb",
   "metadata": {
    "pycharm": {
     "name": "#%%\n"
    }
   },
   "outputs": [],
   "source": [
    "df_Xneg=df_Xbin.copy()\n",
    "df_Yneg=df_Ybin.copy()"
   ]
  },
  {
   "cell_type": "code",
   "execution_count": 24,
   "id": "ab5f1b53",
   "metadata": {
    "pycharm": {
     "name": "#%%\n"
    }
   },
   "outputs": [],
   "source": [
    "df_Xneg.loc[:,'Src IP'] = df_Xneg['Src IP'].apply(lambda x:Conv_bin(x))\n",
    "df_Xneg.loc[:,'Dst IP'] = df_Xneg['Dst IP'].apply(lambda x:Conv_bin(x))\n",
    "df_Xneg.loc[:,'Dst Port'] = df_Xneg['Dst Port'].apply(lambda x:Conv_bin(x))\n",
    "df_Xneg.loc[:,'Src Port'] = df_Xneg['Src Port'].apply(lambda x:Conv_bin(x))\n",
    "df_Xneg.loc[:,'Protocol'] = df_Xneg['Protocol'].apply(lambda x:Conv_bin(x))"
   ]
  },
  {
   "cell_type": "code",
   "execution_count": 25,
   "id": "15292d5e",
   "metadata": {
    "pycharm": {
     "name": "#%%\n"
    }
   },
   "outputs": [],
   "source": [
    "df_Yneg=df_Yneg.apply(lambda y:Conv_ybin(y))"
   ]
  },
  {
   "cell_type": "code",
   "execution_count": 26,
   "id": "66369800",
   "metadata": {
    "pycharm": {
     "name": "#%%\n"
    }
   },
   "outputs": [
    {
     "data": {
      "text/html": [
       "<div>\n",
       "<style scoped>\n",
       "    .dataframe tbody tr th:only-of-type {\n",
       "        vertical-align: middle;\n",
       "    }\n",
       "\n",
       "    .dataframe tbody tr th {\n",
       "        vertical-align: top;\n",
       "    }\n",
       "\n",
       "    .dataframe thead th {\n",
       "        text-align: right;\n",
       "    }\n",
       "</style>\n",
       "<table border=\"1\" class=\"dataframe\">\n",
       "  <thead>\n",
       "    <tr style=\"text-align: right;\">\n",
       "      <th></th>\n",
       "      <th>Dst IP</th>\n",
       "      <th>Src IP</th>\n",
       "      <th>Src Port</th>\n",
       "      <th>Dst Port</th>\n",
       "      <th>Protocol</th>\n",
       "    </tr>\n",
       "  </thead>\n",
       "  <tbody>\n",
       "    <tr>\n",
       "      <th>0</th>\n",
       "      <td>[1, 1, 1, 1, -1, 1, 1, 1, 1, 1, 1, 1, 1, 1, 1,...</td>\n",
       "      <td>[1, 1, 1, 1, -1, 1, 1, 1, 1, 1, 1, 1, 1, -1, -...</td>\n",
       "      <td>[1, 1, 1, 1, 1, 1, 1, 1, 1, 1, 1, 1, 1, 1, 1, 1]</td>\n",
       "      <td>[1, 1, 1, 1, 1, 1, 1, 1, 1, 1, 1, 1, 1, 1, 1, 1]</td>\n",
       "      <td>[1, 1, 1, 1, 1, 1, 1, 1]</td>\n",
       "    </tr>\n",
       "    <tr>\n",
       "      <th>1</th>\n",
       "      <td>[1, -1, 1, 1, -1, 1, -1, 1, 1, -1, -1, -1, -1,...</td>\n",
       "      <td>[-1, 1, 1, -1, 1, 1, -1, -1, 1, 1, -1, 1, 1, 1...</td>\n",
       "      <td>[1, 1, 1, 1, 1, -1, 1, 1, 1, 1, 1, 1, 1, 1, -1...</td>\n",
       "      <td>[1, 1, 1, 1, 1, 1, 1, 1, 1, -1, 1, -1, 1, 1, 1...</td>\n",
       "      <td>[1, 1, 1, 1, 1, -1, -1, 1]</td>\n",
       "    </tr>\n",
       "    <tr>\n",
       "      <th>2</th>\n",
       "      <td>[-1, 1, 1, -1, 1, 1, -1, -1, 1, 1, -1, 1, 1, 1...</td>\n",
       "      <td>[-1, 1, 1, -1, 1, 1, -1, -1, 1, 1, -1, 1, 1, 1...</td>\n",
       "      <td>[1, 1, 1, 1, 1, 1, 1, 1, -1, 1, 1, 1, -1, 1, 1...</td>\n",
       "      <td>[1, 1, 1, 1, 1, 1, 1, 1, -1, 1, 1, 1, -1, 1, 1...</td>\n",
       "      <td>[1, 1, 1, -1, 1, 1, 1, -1]</td>\n",
       "    </tr>\n",
       "    <tr>\n",
       "      <th>3</th>\n",
       "      <td>[-1, 1, 1, -1, 1, 1, -1, -1, 1, 1, -1, 1, 1, 1...</td>\n",
       "      <td>[-1, 1, 1, -1, 1, 1, -1, -1, 1, 1, -1, 1, 1, 1...</td>\n",
       "      <td>[1, 1, 1, 1, 1, -1, 1, 1, 1, 1, 1, 1, 1, 1, 1,...</td>\n",
       "      <td>[1, 1, 1, 1, 1, 1, 1, 1, 1, 1, -1, -1, 1, -1, ...</td>\n",
       "      <td>[1, 1, 1, -1, 1, 1, 1, -1]</td>\n",
       "    </tr>\n",
       "    <tr>\n",
       "      <th>4</th>\n",
       "      <td>[1, -1, 1, -1, -1, -1, -1, 1, 1, 1, -1, -1, -1...</td>\n",
       "      <td>[-1, 1, 1, -1, 1, 1, -1, -1, 1, 1, -1, 1, 1, 1...</td>\n",
       "      <td>[1, 1, 1, 1, 1, -1, 1, 1, 1, 1, 1, -1, 1, 1, 1...</td>\n",
       "      <td>[1, 1, 1, 1, 1, 1, 1, 1, 1, -1, 1, -1, 1, 1, 1...</td>\n",
       "      <td>[1, 1, 1, 1, 1, -1, -1, 1]</td>\n",
       "    </tr>\n",
       "  </tbody>\n",
       "</table>\n",
       "</div>"
      ],
      "text/plain": [
       "                                              Dst IP  \\\n",
       "0  [1, 1, 1, 1, -1, 1, 1, 1, 1, 1, 1, 1, 1, 1, 1,...   \n",
       "1  [1, -1, 1, 1, -1, 1, -1, 1, 1, -1, -1, -1, -1,...   \n",
       "2  [-1, 1, 1, -1, 1, 1, -1, -1, 1, 1, -1, 1, 1, 1...   \n",
       "3  [-1, 1, 1, -1, 1, 1, -1, -1, 1, 1, -1, 1, 1, 1...   \n",
       "4  [1, -1, 1, -1, -1, -1, -1, 1, 1, 1, -1, -1, -1...   \n",
       "\n",
       "                                              Src IP  \\\n",
       "0  [1, 1, 1, 1, -1, 1, 1, 1, 1, 1, 1, 1, 1, -1, -...   \n",
       "1  [-1, 1, 1, -1, 1, 1, -1, -1, 1, 1, -1, 1, 1, 1...   \n",
       "2  [-1, 1, 1, -1, 1, 1, -1, -1, 1, 1, -1, 1, 1, 1...   \n",
       "3  [-1, 1, 1, -1, 1, 1, -1, -1, 1, 1, -1, 1, 1, 1...   \n",
       "4  [-1, 1, 1, -1, 1, 1, -1, -1, 1, 1, -1, 1, 1, 1...   \n",
       "\n",
       "                                            Src Port  \\\n",
       "0   [1, 1, 1, 1, 1, 1, 1, 1, 1, 1, 1, 1, 1, 1, 1, 1]   \n",
       "1  [1, 1, 1, 1, 1, -1, 1, 1, 1, 1, 1, 1, 1, 1, -1...   \n",
       "2  [1, 1, 1, 1, 1, 1, 1, 1, -1, 1, 1, 1, -1, 1, 1...   \n",
       "3  [1, 1, 1, 1, 1, -1, 1, 1, 1, 1, 1, 1, 1, 1, 1,...   \n",
       "4  [1, 1, 1, 1, 1, -1, 1, 1, 1, 1, 1, -1, 1, 1, 1...   \n",
       "\n",
       "                                            Dst Port  \\\n",
       "0   [1, 1, 1, 1, 1, 1, 1, 1, 1, 1, 1, 1, 1, 1, 1, 1]   \n",
       "1  [1, 1, 1, 1, 1, 1, 1, 1, 1, -1, 1, -1, 1, 1, 1...   \n",
       "2  [1, 1, 1, 1, 1, 1, 1, 1, -1, 1, 1, 1, -1, 1, 1...   \n",
       "3  [1, 1, 1, 1, 1, 1, 1, 1, 1, 1, -1, -1, 1, -1, ...   \n",
       "4  [1, 1, 1, 1, 1, 1, 1, 1, 1, -1, 1, -1, 1, 1, 1...   \n",
       "\n",
       "                     Protocol  \n",
       "0    [1, 1, 1, 1, 1, 1, 1, 1]  \n",
       "1  [1, 1, 1, 1, 1, -1, -1, 1]  \n",
       "2  [1, 1, 1, -1, 1, 1, 1, -1]  \n",
       "3  [1, 1, 1, -1, 1, 1, 1, -1]  \n",
       "4  [1, 1, 1, 1, 1, -1, -1, 1]  "
      ]
     },
     "execution_count": 26,
     "metadata": {},
     "output_type": "execute_result"
    }
   ],
   "source": [
    "df_Xneg.head()"
   ]
  },
  {
   "cell_type": "code",
   "execution_count": 27,
   "id": "1e60e3a2",
   "metadata": {
    "pycharm": {
     "name": "#%%\n"
    }
   },
   "outputs": [],
   "source": [
    "df_Xneg['final_vec'] = df_Xneg['Dst Port']+df_Xneg['Src Port']+df_Xneg['Protocol']+df_Xneg['Dst IP']+df_Xneg['Src IP']"
   ]
  },
  {
   "cell_type": "code",
   "execution_count": 28,
   "id": "f5c2ea13",
   "metadata": {},
   "outputs": [
    {
     "data": {
      "text/plain": [
       "0    [1, 1, 1, 1, 1, 1, 1, 1, 1, 1, 1, 1, 1, 1, 1, ...\n",
       "1    [1, 1, 1, 1, 1, 1, 1, 1, 1, -1, 1, -1, 1, 1, 1...\n",
       "2    [1, 1, 1, 1, 1, 1, 1, 1, -1, 1, 1, 1, -1, 1, 1...\n",
       "3    [1, 1, 1, 1, 1, 1, 1, 1, 1, 1, -1, -1, 1, -1, ...\n",
       "4    [1, 1, 1, 1, 1, 1, 1, 1, 1, -1, 1, -1, 1, 1, 1...\n",
       "Name: final_vec, dtype: object"
      ]
     },
     "execution_count": 28,
     "metadata": {},
     "output_type": "execute_result"
    }
   ],
   "source": [
    "df_Xneg['final_vec'].head()"
   ]
  },
  {
   "cell_type": "code",
   "execution_count": null,
   "id": "37416352",
   "metadata": {},
   "outputs": [],
   "source": [
    "# Uncomment to save data \n",
    "#df_Xneg['final_vec'].to_csv('Datos_Trans1-1.csv', sep=',')\n",
    "#df_Yneg.to_csv('labels1-1.csv')"
   ]
  },
  {
   "cell_type": "code",
   "execution_count": 29,
   "id": "02c295f9",
   "metadata": {
    "pycharm": {
     "name": "#%%\n"
    }
   },
   "outputs": [],
   "source": [
    "# Divide to train, validation and test data\n",
    "\n",
    "x_train, x_val, y_train, y_val = train_test_split(df_Xneg['final_vec'], df_Yneg,random_state = 3, train_size=0.7)\n",
    "x_val, x_test, y_val, y_test = train_test_split(x_val, y_val, test_size=0.5, random_state=42)"
   ]
  },
  {
   "cell_type": "code",
   "execution_count": 30,
   "id": "058cf845",
   "metadata": {
    "pycharm": {
     "name": "#%%\n"
    }
   },
   "outputs": [],
   "source": [
    "target_train= torch.from_numpy(np.array(y_train))\n",
    "target_val= torch.from_numpy(np.array(y_val))\n",
    "target_test= torch.from_numpy(np.array(y_test))\n",
    "\n",
    "features_train=torch.Tensor(list(x_train))\n",
    "features_val=torch.Tensor(list(x_val))\n",
    "features_test= torch.Tensor(list(x_test))"
   ]
  },
  {
   "cell_type": "code",
   "execution_count": 43,
   "id": "9b922497",
   "metadata": {},
   "outputs": [],
   "source": [
    "# Uncomment to Safe array data\n",
    "'''target_train_Bin= np.array(target_train)\n",
    "target_val_Bin= np.array(target_val)\n",
    "target_test_Bin = np.array(target_test)\n",
    "features_train_Bin = np.array(features_train)\n",
    "features_val_Bin = np.array(features_val)\n",
    "features_test_Bin = np.array(features_test)\n",
    "\n",
    "np.savetxt('target_train_Bin.txt', target_train_Bin, fmt='%d')\n",
    "np.savetxt('target_val_Bin.txt', target_val_Bin, fmt='%d')\n",
    "np.savetxt('target_test_Bin.txt', target_test_Bin, fmt='%d')\n",
    "np.savetxt('features_train_Bin.txt', features_train_Bin, fmt='%d')\n",
    "np.savetxt('features_val_Bin.txt', features_val_Bin, fmt='%d')\n",
    "np.savetxt('features_test_Bin.txt', features_test_Bin, fmt='%d')'''\n"
   ]
  },
  {
   "cell_type": "code",
   "execution_count": null,
   "id": "a2ab08fd",
   "metadata": {},
   "outputs": [],
   "source": [
    "# Uncomment to load tensor array data\n",
    "'''\n",
    "a0 =torch.from_numpy(np.loadtxt('target_train_Bin.txt', dtype=int)) \n",
    "a1 =torch.from_numpy(np.loadtxt('target_test_Bin.txt', dtype=int)) \n",
    "a2 =torch.torch.Tensor(np.loadtxt('features_train_Bin.txt', dtype=int))\n",
    "a3 =torch.torch.Tensor(np.loadtxt('features_test_Bin.txt', dtype=int)) \n",
    "'''"
   ]
  }
 ],
 "metadata": {
  "kernelspec": {
   "display_name": "Python 3.10.7 64-bit",
   "language": "python",
   "name": "python3"
  },
  "language_info": {
   "codemirror_mode": {
    "name": "ipython",
    "version": 3
   },
   "file_extension": ".py",
   "mimetype": "text/x-python",
   "name": "python",
   "nbconvert_exporter": "python",
   "pygments_lexer": "ipython3",
   "version": "3.10.7"
  },
  "toc": {
   "base_numbering": 1,
   "nav_menu": {},
   "number_sections": true,
   "sideBar": true,
   "skip_h1_title": false,
   "title_cell": "Table of Contents",
   "title_sidebar": "Contents",
   "toc_cell": false,
   "toc_position": {},
   "toc_section_display": true,
   "toc_window_display": false
  },
  "vscode": {
   "interpreter": {
    "hash": "b827ebc50cbdd643ae8cb3565317db0b2256a48f0496347d50c0f0a417c4b7ad"
   }
  }
 },
 "nbformat": 4,
 "nbformat_minor": 5
}
